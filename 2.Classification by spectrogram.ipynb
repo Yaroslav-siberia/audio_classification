{
 "cells": [
  {
   "cell_type": "markdown",
   "id": "63c27d89",
   "metadata": {},
   "source": [
    "# Import"
   ]
  },
  {
   "cell_type": "code",
   "execution_count": 5,
   "id": "a55ff587",
   "metadata": {},
   "outputs": [],
   "source": [
    "# system packages\n",
    "import os\n",
    "import cv2\n",
    "import time\n",
    "import numpy as np\n",
    "import shutil\n",
    "import librosa.display\n",
    "from tqdm import tqdm\n",
    "import gc\n",
    "import pandas as pd\n",
    "import copy\n",
    "import math\n",
    "from sklearn.metrics import confusion_matrix, classification_report\n",
    "from pydub import AudioSegment\n",
    "\n",
    "# torch packages\n",
    "import torch\n",
    "import torch.nn as nn\n",
    "import torch.nn.functional as F\n",
    "from torch.utils.data import DataLoader, Dataset,RandomSampler\n",
    "import torchvision.transforms as T\n",
    "import torchvision.models as models\n",
    "from torchvision.utils import make_grid\n",
    "from torchvision.datasets import ImageFolder\n",
    "\n",
    "\n",
    "import seaborn as sns\n",
    "import matplotlib.pyplot as plt\n",
    "from matplotlib.backends.backend_agg import FigureCanvasAgg as FigureCanvas"
   ]
  },
  {
   "cell_type": "markdown",
   "id": "dabca1b9",
   "metadata": {},
   "source": [
    "# Creating dataset"
   ]
  },
  {
   "cell_type": "markdown",
   "id": "ed19df1d",
   "metadata": {},
   "source": [
    "В данном разделе написан код, который создает датасет из спектограмм"
   ]
  },
  {
   "cell_type": "code",
   "execution_count": 6,
   "id": "802038eb",
   "metadata": {},
   "outputs": [],
   "source": [
    "def create_img_data(audio_folder:str,img_folder:str,window_size=1024,hop_length=512):\n",
    "    '''\n",
    "    данная функция генерирует по датасету аудиофайлов датасет спектрограмм(изображений)\n",
    "    сопоставление по названиям будет 1 к 1 включая иерархию вложенности\n",
    "    ==Input==\n",
    "    audio_folder - путь к директории с датасетом аудиофайлов\n",
    "    img_folder - путь к директории куда складывать изображения\n",
    "    window_size - по сути размер скользящего окна\n",
    "    '''\n",
    "    if not os.path.exists(img_folder):\n",
    "        os.makedirs(img_folder)\n",
    "    # цикл по подпапкам и файлам\n",
    "    for subdir, dirs, files in os.walk(audio_folder):\n",
    "        print(subdir)\n",
    "        for file in tqdm(files):\n",
    "            filepath = subdir + os.sep + file\n",
    "            if filepath.endswith(\".wav\"):\n",
    "                fig = plt.Figure(frameon=False)\n",
    "                y, sr = librosa.load(filepath)\n",
    "                window = np.hanning(window_size) # построение скользящего окна для сглаживания\n",
    "                stft  = librosa.core.spectrum.stft(y,   # разложение в Фурье\n",
    "                                                   n_fft=window_size, \n",
    "                                                   hop_length=hop_length, \n",
    "                                                   window=window)\n",
    "                out = 2 * np.abs(stft) / np.sum(window)\n",
    "                canvas = FigureCanvas(fig)\n",
    "                ax = fig.add_subplot(111)\n",
    "                ax.axis('off')\n",
    "                p = librosa.display.specshow(librosa.amplitude_to_db(out,  # построение спектрограммы\n",
    "                                                                     ref=np.max),\n",
    "                                             ax=ax)\n",
    "                path=os.path.join(img_folder,subdir.split('/')[-1])\n",
    "                if not os.path.exists(path):\n",
    "                    os.makedirs(path)\n",
    "                f_name=os.path.join(path,file.split('.')[0]+'.png')   \n",
    "                fig.savefig(f_name\n",
    "                            ,pad_inches = 0)\n",
    "                # закрытие и удаление объектов \"график\" чтобы не переполнялась память\n",
    "                fig.clear()\n",
    "                plt.close(fig)\n",
    "            gc.collect()\n",
    "        gc.collect()"
   ]
  },
  {
   "cell_type": "markdown",
   "id": "41a24a27",
   "metadata": {},
   "source": [
    "Генерируем датасет из спектрограмм для наших аудиофайлов. Необходимо обратить внимание на пути."
   ]
  },
  {
   "cell_type": "code",
   "execution_count": 7,
   "id": "0497bbae",
   "metadata": {
    "scrolled": true
   },
   "outputs": [
    {
     "name": "stdout",
     "output_type": "stream",
     "text": [
      "./split_10_noise\n"
     ]
    },
    {
     "name": "stderr",
     "output_type": "stream",
     "text": [
      "0it [00:00, ?it/s]\n"
     ]
    },
    {
     "name": "stdout",
     "output_type": "stream",
     "text": [
      "./split_10_noise\\Test1\n"
     ]
    },
    {
     "name": "stderr",
     "output_type": "stream",
     "text": [
      "100%|███████████████████████████████████████████████████████████████████████████| 250/250 [00:50<00:00,  4.91it/s]\n"
     ]
    },
    {
     "name": "stdout",
     "output_type": "stream",
     "text": [
      "./split_10_noise\\Test10\n"
     ]
    },
    {
     "name": "stderr",
     "output_type": "stream",
     "text": [
      "100%|███████████████████████████████████████████████████████████████████████████| 250/250 [00:50<00:00,  4.95it/s]\n"
     ]
    },
    {
     "name": "stdout",
     "output_type": "stream",
     "text": [
      "./split_10_noise\\Test11\n"
     ]
    },
    {
     "name": "stderr",
     "output_type": "stream",
     "text": [
      "100%|███████████████████████████████████████████████████████████████████████████| 250/250 [00:50<00:00,  4.97it/s]\n"
     ]
    },
    {
     "name": "stdout",
     "output_type": "stream",
     "text": [
      "./split_10_noise\\Test12\n"
     ]
    },
    {
     "name": "stderr",
     "output_type": "stream",
     "text": [
      "100%|███████████████████████████████████████████████████████████████████████████| 250/250 [00:50<00:00,  4.97it/s]\n"
     ]
    },
    {
     "name": "stdout",
     "output_type": "stream",
     "text": [
      "./split_10_noise\\Test13\n"
     ]
    },
    {
     "name": "stderr",
     "output_type": "stream",
     "text": [
      "100%|███████████████████████████████████████████████████████████████████████████| 250/250 [00:50<00:00,  4.96it/s]\n"
     ]
    },
    {
     "name": "stdout",
     "output_type": "stream",
     "text": [
      "./split_10_noise\\Test2\n"
     ]
    },
    {
     "name": "stderr",
     "output_type": "stream",
     "text": [
      "100%|███████████████████████████████████████████████████████████████████████████| 250/250 [00:50<00:00,  4.96it/s]\n"
     ]
    },
    {
     "name": "stdout",
     "output_type": "stream",
     "text": [
      "./split_10_noise\\Test3\n"
     ]
    },
    {
     "name": "stderr",
     "output_type": "stream",
     "text": [
      "100%|███████████████████████████████████████████████████████████████████████████| 250/250 [00:50<00:00,  4.97it/s]\n"
     ]
    },
    {
     "name": "stdout",
     "output_type": "stream",
     "text": [
      "./split_10_noise\\Test4\n"
     ]
    },
    {
     "name": "stderr",
     "output_type": "stream",
     "text": [
      "100%|███████████████████████████████████████████████████████████████████████████| 250/250 [00:51<00:00,  4.87it/s]\n"
     ]
    },
    {
     "name": "stdout",
     "output_type": "stream",
     "text": [
      "./split_10_noise\\Test5\n"
     ]
    },
    {
     "name": "stderr",
     "output_type": "stream",
     "text": [
      "100%|███████████████████████████████████████████████████████████████████████████| 250/250 [00:50<00:00,  4.90it/s]\n"
     ]
    },
    {
     "name": "stdout",
     "output_type": "stream",
     "text": [
      "./split_10_noise\\Test6\n"
     ]
    },
    {
     "name": "stderr",
     "output_type": "stream",
     "text": [
      "100%|███████████████████████████████████████████████████████████████████████████| 250/250 [00:50<00:00,  4.95it/s]\n"
     ]
    },
    {
     "name": "stdout",
     "output_type": "stream",
     "text": [
      "./split_10_noise\\Test7\n"
     ]
    },
    {
     "name": "stderr",
     "output_type": "stream",
     "text": [
      "100%|███████████████████████████████████████████████████████████████████████████| 250/250 [00:50<00:00,  4.93it/s]\n"
     ]
    },
    {
     "name": "stdout",
     "output_type": "stream",
     "text": [
      "./split_10_noise\\Test9\n"
     ]
    },
    {
     "name": "stderr",
     "output_type": "stream",
     "text": [
      "100%|███████████████████████████████████████████████████████████████████████████| 250/250 [00:50<00:00,  4.96it/s]"
     ]
    },
    {
     "name": "stdout",
     "output_type": "stream",
     "text": [
      "CPU times: total: 10min 5s\n",
      "Wall time: 10min 7s\n"
     ]
    },
    {
     "name": "stderr",
     "output_type": "stream",
     "text": [
      "\n"
     ]
    }
   ],
   "source": [
    "%%time\n",
    "create_img_data('./split_10_noise','./spec_10_noise')"
   ]
  },
  {
   "cell_type": "code",
   "execution_count": 4,
   "id": "cf7d020c",
   "metadata": {},
   "outputs": [
    {
     "name": "stdout",
     "output_type": "stream",
     "text": [
      "./splited_data_10\n"
     ]
    },
    {
     "name": "stderr",
     "output_type": "stream",
     "text": [
      "0it [00:00, ?it/s]\n"
     ]
    },
    {
     "name": "stdout",
     "output_type": "stream",
     "text": [
      "./splited_data_10\\Test1\n"
     ]
    },
    {
     "name": "stderr",
     "output_type": "stream",
     "text": [
      "100%|█████████████████████████████████████████████████████████████████████████████| 70/70 [01:26<00:00,  1.24s/it]\n"
     ]
    },
    {
     "name": "stdout",
     "output_type": "stream",
     "text": [
      "./splited_data_10\\Test10\n"
     ]
    },
    {
     "name": "stderr",
     "output_type": "stream",
     "text": [
      "100%|█████████████████████████████████████████████████████████████████████████████| 70/70 [01:27<00:00,  1.25s/it]\n"
     ]
    },
    {
     "name": "stdout",
     "output_type": "stream",
     "text": [
      "./splited_data_10\\Test11\n"
     ]
    },
    {
     "name": "stderr",
     "output_type": "stream",
     "text": [
      "100%|█████████████████████████████████████████████████████████████████████████████| 70/70 [01:27<00:00,  1.25s/it]\n"
     ]
    },
    {
     "name": "stdout",
     "output_type": "stream",
     "text": [
      "./splited_data_10\\Test12\n"
     ]
    },
    {
     "name": "stderr",
     "output_type": "stream",
     "text": [
      "100%|█████████████████████████████████████████████████████████████████████████████| 70/70 [01:27<00:00,  1.24s/it]\n"
     ]
    },
    {
     "name": "stdout",
     "output_type": "stream",
     "text": [
      "./splited_data_10\\Test13\n"
     ]
    },
    {
     "name": "stderr",
     "output_type": "stream",
     "text": [
      "100%|█████████████████████████████████████████████████████████████████████████████| 70/70 [01:26<00:00,  1.24s/it]\n"
     ]
    },
    {
     "name": "stdout",
     "output_type": "stream",
     "text": [
      "./splited_data_10\\Test2\n"
     ]
    },
    {
     "name": "stderr",
     "output_type": "stream",
     "text": [
      "100%|█████████████████████████████████████████████████████████████████████████████| 70/70 [01:27<00:00,  1.25s/it]\n"
     ]
    },
    {
     "name": "stdout",
     "output_type": "stream",
     "text": [
      "./splited_data_10\\Test3\n"
     ]
    },
    {
     "name": "stderr",
     "output_type": "stream",
     "text": [
      "100%|█████████████████████████████████████████████████████████████████████████████| 70/70 [01:26<00:00,  1.24s/it]\n"
     ]
    },
    {
     "name": "stdout",
     "output_type": "stream",
     "text": [
      "./splited_data_10\\Test4\n"
     ]
    },
    {
     "name": "stderr",
     "output_type": "stream",
     "text": [
      "100%|█████████████████████████████████████████████████████████████████████████████| 70/70 [01:26<00:00,  1.24s/it]\n"
     ]
    },
    {
     "name": "stdout",
     "output_type": "stream",
     "text": [
      "./splited_data_10\\Test5\n"
     ]
    },
    {
     "name": "stderr",
     "output_type": "stream",
     "text": [
      "100%|█████████████████████████████████████████████████████████████████████████████| 70/70 [01:27<00:00,  1.25s/it]\n"
     ]
    },
    {
     "name": "stdout",
     "output_type": "stream",
     "text": [
      "./splited_data_10\\Test6\n"
     ]
    },
    {
     "name": "stderr",
     "output_type": "stream",
     "text": [
      "100%|█████████████████████████████████████████████████████████████████████████████| 70/70 [01:27<00:00,  1.24s/it]\n"
     ]
    },
    {
     "name": "stdout",
     "output_type": "stream",
     "text": [
      "./splited_data_10\\Test7\n"
     ]
    },
    {
     "name": "stderr",
     "output_type": "stream",
     "text": [
      "100%|█████████████████████████████████████████████████████████████████████████████| 70/70 [01:27<00:00,  1.25s/it]\n"
     ]
    },
    {
     "name": "stdout",
     "output_type": "stream",
     "text": [
      "./splited_data_10\\Test9\n"
     ]
    },
    {
     "name": "stderr",
     "output_type": "stream",
     "text": [
      "100%|█████████████████████████████████████████████████████████████████████████████| 70/70 [01:27<00:00,  1.25s/it]"
     ]
    },
    {
     "name": "stdout",
     "output_type": "stream",
     "text": [
      "CPU times: total: 17min 23s\n",
      "Wall time: 17min 26s\n"
     ]
    },
    {
     "name": "stderr",
     "output_type": "stream",
     "text": [
      "\n"
     ]
    }
   ],
   "source": [
    "# необязательная часть про эксперимент с 10 секундами\n",
    "#%%time\n",
    "#create_img_data('./splited_data_10','./img_10')"
   ]
  },
  {
   "cell_type": "markdown",
   "id": "62b271ee",
   "metadata": {},
   "source": [
    "# Spliting Dataset to Train and Val"
   ]
  },
  {
   "cell_type": "markdown",
   "id": "648e82e1",
   "metadata": {},
   "source": [
    "Разделим датасет на тренировочный и валидационный"
   ]
  },
  {
   "cell_type": "code",
   "execution_count": 8,
   "id": "267dac28",
   "metadata": {},
   "outputs": [],
   "source": [
    "def split_train_test(img_dir:str, dataset_dir:str,test_ratio = 0.20 ):\n",
    "    '''\n",
    "    Разделит датасет с изображениями на 2 группы, для тренировки и валидации.\n",
    "    по сути изображения скопируются в новый датасет но там будет уже правильная структура\n",
    "    ==Input==\n",
    "    img_dir - путь к директории с нашими спектрограммами\n",
    "    dataset_dir - директория где у нас будет все разбито на train и val\n",
    "    test_ratio - доля изображений которыe уйдут на тестирование. обычно это 15%-20%.\n",
    "    '''\n",
    "    classes = os.listdir(img_dir)\n",
    "    for i in classes:\n",
    "        if not os.path.exists(dataset_dir):\n",
    "            os.makedirs(dataset_dir)\n",
    "        if not os.path.exists(dataset_dir +'/train/' + i):\n",
    "            os.makedirs(dataset_dir +'/train/' + i)\n",
    "        if not os.path.exists(dataset_dir +'/val/' + i):\n",
    "            os.makedirs(dataset_dir +'/val/' + i)\n",
    "        source = img_dir + '/' + i\n",
    "        allFileNames = os.listdir(source)\n",
    "        np.random.shuffle(allFileNames)\n",
    "        \n",
    "        train_FileNames, test_FileNames = np.split(np.array(allFileNames),\n",
    "                                                              [int(len(allFileNames)* (1 - test_ratio))])\n",
    "        train_FileNames = [source+'/'+ name for name in train_FileNames.tolist()]\n",
    "        test_FileNames = [source+'/' + name for name in test_FileNames.tolist()]\n",
    "        for name in train_FileNames:\n",
    "            shutil.copy(name, dataset_dir +'/train/' + i)\n",
    "        for name in test_FileNames:\n",
    "            shutil.copy(name, dataset_dir +'/val/' + i)"
   ]
  },
  {
   "cell_type": "markdown",
   "id": "0b79c156",
   "metadata": {},
   "source": [
    "Разделим выборки на 2 части.  \n",
    "по сути должны получить *img_dataset/train* и *img_dataset/val* а внутри кажого из них директорию с нашим примерами для нашего класса"
   ]
  },
  {
   "cell_type": "code",
   "execution_count": 9,
   "id": "fae698c1",
   "metadata": {},
   "outputs": [
    {
     "name": "stdout",
     "output_type": "stream",
     "text": [
      "CPU times: total: 1.75 s\n",
      "Wall time: 1.87 s\n"
     ]
    }
   ],
   "source": [
    "%%time\n",
    "split_train_test('./spec_10_noise/split_10_noise','./img_dataset_10')"
   ]
  },
  {
   "cell_type": "code",
   "execution_count": 7,
   "id": "af55dd2d",
   "metadata": {},
   "outputs": [
    {
     "ename": "FileNotFoundError",
     "evalue": "[WinError 3] Системе не удается найти указанный путь: './img_5/splited_data_10'",
     "output_type": "error",
     "traceback": [
      "\u001b[1;31m---------------------------------------------------------------------------\u001b[0m",
      "\u001b[1;31mFileNotFoundError\u001b[0m                         Traceback (most recent call last)",
      "File \u001b[1;32m<timed eval>:1\u001b[0m, in \u001b[0;36m<module>\u001b[1;34m\u001b[0m\n",
      "Input \u001b[1;32mIn [5]\u001b[0m, in \u001b[0;36msplit_train_test\u001b[1;34m(img_dir, dataset_dir, test_ratio)\u001b[0m\n\u001b[0;32m      1\u001b[0m \u001b[38;5;28;01mdef\u001b[39;00m \u001b[38;5;21msplit_train_test\u001b[39m(img_dir:\u001b[38;5;28mstr\u001b[39m, dataset_dir:\u001b[38;5;28mstr\u001b[39m,test_ratio \u001b[38;5;241m=\u001b[39m \u001b[38;5;241m0.20\u001b[39m ):\n\u001b[0;32m      2\u001b[0m     \u001b[38;5;124;03m'''\u001b[39;00m\n\u001b[0;32m      3\u001b[0m \u001b[38;5;124;03m    Разделит датасет с изображениями на 2 группы.\u001b[39;00m\n\u001b[0;32m      4\u001b[0m \u001b[38;5;124;03m    ==Input==\u001b[39;00m\n\u001b[1;32m   (...)\u001b[0m\n\u001b[0;32m      7\u001b[0m \u001b[38;5;124;03m    test_ratio - доля изображений который уйдут на тестирование. обычно это 15%-20%.\u001b[39;00m\n\u001b[0;32m      8\u001b[0m \u001b[38;5;124;03m    '''\u001b[39;00m\n\u001b[1;32m----> 9\u001b[0m     classes \u001b[38;5;241m=\u001b[39m \u001b[43mos\u001b[49m\u001b[38;5;241;43m.\u001b[39;49m\u001b[43mlistdir\u001b[49m\u001b[43m(\u001b[49m\u001b[43mimg_dir\u001b[49m\u001b[43m)\u001b[49m\n\u001b[0;32m     10\u001b[0m     \u001b[38;5;28;01mfor\u001b[39;00m i \u001b[38;5;129;01min\u001b[39;00m classes:\n\u001b[0;32m     11\u001b[0m         \u001b[38;5;28;01mif\u001b[39;00m \u001b[38;5;129;01mnot\u001b[39;00m os\u001b[38;5;241m.\u001b[39mpath\u001b[38;5;241m.\u001b[39mexists(dataset_dir):\n",
      "\u001b[1;31mFileNotFoundError\u001b[0m: [WinError 3] Системе не удается найти указанный путь: './img_5/splited_data_10'"
     ]
    }
   ],
   "source": [
    "#%%time\n",
    "#split_train_test('./img_10/splited_data_10','./img_dataset_10')"
   ]
  },
  {
   "cell_type": "markdown",
   "id": "277dbb5e",
   "metadata": {},
   "source": [
    "# Creating classificator"
   ]
  },
  {
   "cell_type": "code",
   "execution_count": 10,
   "id": "ec60c878",
   "metadata": {},
   "outputs": [],
   "source": [
    "# переменные с директориями\n",
    "DIR_TRAIN = \"./img_dataset_10/train\"\n",
    "DIR_VALID = \"./img_dataset_10/val\""
   ]
  },
  {
   "cell_type": "code",
   "execution_count": 11,
   "id": "d0e7ce5a",
   "metadata": {},
   "outputs": [
    {
     "name": "stdout",
     "output_type": "stream",
     "text": [
      "Total Classes:  12\n"
     ]
    }
   ],
   "source": [
    "classes = os.listdir(DIR_TRAIN)\n",
    "print(\"Total Classes: \",len(classes))"
   ]
  },
  {
   "cell_type": "code",
   "execution_count": 12,
   "id": "a0de1f03",
   "metadata": {},
   "outputs": [
    {
     "data": {
      "text/plain": [
       "['Test1',\n",
       " 'Test10',\n",
       " 'Test11',\n",
       " 'Test12',\n",
       " 'Test13',\n",
       " 'Test2',\n",
       " 'Test3',\n",
       " 'Test4',\n",
       " 'Test5',\n",
       " 'Test6',\n",
       " 'Test7',\n",
       " 'Test9']"
      ]
     },
     "execution_count": 12,
     "metadata": {},
     "output_type": "execute_result"
    }
   ],
   "source": [
    "classes"
   ]
  },
  {
   "cell_type": "code",
   "execution_count": 13,
   "id": "74bf63fb",
   "metadata": {},
   "outputs": [
    {
     "name": "stdout",
     "output_type": "stream",
     "text": [
      "Total train images:  2400\n",
      "Total valid images:  600\n"
     ]
    }
   ],
   "source": [
    "# просто \"осматриваем\" данные\n",
    "train_count = 0\n",
    "valid_count = 0\n",
    "\n",
    "for _class in classes:\n",
    "    train_count += len(os.listdir(DIR_TRAIN +'/'+ _class))\n",
    "    valid_count += len(os.listdir(DIR_VALID +'/'+ _class))\n",
    "print(\"Total train images: \",train_count)\n",
    "print(\"Total valid images: \",valid_count)"
   ]
  },
  {
   "cell_type": "code",
   "execution_count": 14,
   "id": "35f536de",
   "metadata": {},
   "outputs": [],
   "source": [
    "# Создаем списки со всеми изображениями для тренировки и для валидации\n",
    "train_imgs = []\n",
    "valid_imgs = []\n",
    "for _class in classes:\n",
    "    \n",
    "    for img in os.listdir(DIR_TRAIN +'/'+ _class):\n",
    "        train_imgs.append(DIR_TRAIN +'/'+ _class + \"/\" + img)\n",
    "    \n",
    "    for img in os.listdir(DIR_VALID +'/'+ _class):\n",
    "        valid_imgs.append(DIR_VALID +'/'+ _class + \"/\" + img)\n",
    "        \n",
    "\n",
    "class_to_int = {classes[i] : i for i in range(0, len(classes))}\n",
    "int_to_class = {i: classes[i] for i in  range(0, len(classes))}"
   ]
  },
  {
   "cell_type": "markdown",
   "id": "f4cc176b",
   "metadata": {},
   "source": [
    "В нашем случай нейронная сеть не работает со словами. потому надо для классов сделать сопоставления"
   ]
  },
  {
   "cell_type": "code",
   "execution_count": 15,
   "id": "a90a97de",
   "metadata": {},
   "outputs": [
    {
     "name": "stdout",
     "output_type": "stream",
     "text": [
      "{'Test1': 0, 'Test10': 1, 'Test11': 2, 'Test12': 3, 'Test13': 4, 'Test2': 5, 'Test3': 6, 'Test4': 7, 'Test5': 8, 'Test6': 9, 'Test7': 10, 'Test9': 11}\n",
      "{0: 'Test1', 1: 'Test10', 2: 'Test11', 3: 'Test12', 4: 'Test13', 5: 'Test2', 6: 'Test3', 7: 'Test4', 8: 'Test5', 9: 'Test6', 10: 'Test7', 11: 'Test9'}\n"
     ]
    }
   ],
   "source": [
    "print(class_to_int)\n",
    "print(int_to_class)"
   ]
  },
  {
   "cell_type": "code",
   "execution_count": 16,
   "id": "4b31f38c",
   "metadata": {},
   "outputs": [],
   "source": [
    "# Создаем класс датасета. Этот объект будет подавать изображения и метки классов в нейронку пачками\n",
    "# Пачками потому что нельзя все карьтнки разом загрузить в память и там работать.\n",
    "\n",
    "\n",
    "def get_transform():\n",
    "    return T.Compose([T.ToTensor()])\n",
    "\n",
    "class CustomDataset(Dataset):\n",
    "    \n",
    "    def __init__(self, imgs_list, class_to_int, transforms = None):\n",
    "        \n",
    "        super().__init__()\n",
    "        self.imgs_list = imgs_list\n",
    "        self.class_to_int = class_to_int\n",
    "        self.transforms = transforms\n",
    "        \n",
    "        \n",
    "    def __getitem__(self, index):\n",
    "    \n",
    "        image_path = self.imgs_list[index]\n",
    "        \n",
    "        #Reading image\n",
    "        image = cv2.imread(image_path, cv2.IMREAD_COLOR)\n",
    "        image = cv2.cvtColor(image, cv2.COLOR_BGR2RGB).astype(np.float32)\n",
    "        image /= 255.0\n",
    "        \n",
    "        #Retriving class label\n",
    "        label = image_path.split(\"/\")[-2]\n",
    "        label = self.class_to_int[label]\n",
    "        \n",
    "        #Applying transforms on image\n",
    "        if self.transforms:\n",
    "            image = self.transforms(image)\n",
    "        \n",
    "        return image, label\n",
    "        \n",
    "        \n",
    "        \n",
    "    def __len__(self):\n",
    "        return len(self.imgs_list)"
   ]
  },
  {
   "cell_type": "code",
   "execution_count": 17,
   "id": "5a465f49",
   "metadata": {},
   "outputs": [],
   "source": [
    "# создаем экземпляры нашего класса датасет\n",
    "train_dataset = CustomDataset(train_imgs, class_to_int, get_transform())\n",
    "valid_dataset = CustomDataset(valid_imgs, class_to_int, get_transform())"
   ]
  },
  {
   "cell_type": "code",
   "execution_count": 18,
   "id": "e2de24c0",
   "metadata": {},
   "outputs": [],
   "source": [
    "# создаем Сэмплер. по сути он просто будет перемешивать идущие на вход картинки\n",
    "# чтобы при каждом цикле все шло в разном порядке. \n",
    "train_random_sampler = RandomSampler(train_dataset)\n",
    "valid_random_sampler = RandomSampler(valid_dataset)"
   ]
  },
  {
   "cell_type": "code",
   "execution_count": 19,
   "id": "6c9e3c97",
   "metadata": {},
   "outputs": [],
   "source": [
    "# Создаем экземпляры Загрузчика данных\n",
    "\n",
    "train_data_loader = DataLoader(\n",
    "    dataset = train_dataset,\n",
    "    batch_size = 4,\n",
    "    sampler = train_random_sampler,\n",
    "    num_workers = 0,\n",
    ")\n",
    "\n",
    "valid_data_loader = DataLoader(\n",
    "    dataset = valid_dataset,\n",
    "    batch_size = 4,\n",
    "    sampler = valid_random_sampler,\n",
    "    num_workers = 0,\n",
    ")"
   ]
  },
  {
   "cell_type": "code",
   "execution_count": 20,
   "id": "2360aac3",
   "metadata": {},
   "outputs": [
    {
     "data": {
      "image/png": "[encoded data removed]",
      "text/plain": [
       "<Figure size 720x720 with 1 Axes>"
      ]
     },
     "metadata": {},
     "output_type": "display_data"
    }
   ],
   "source": [
    "# Просто показать картинки , ничего особенного\n",
    "for images, labels in train_data_loader:\n",
    "    fig, ax = plt.subplots(figsize = (10, 10))\n",
    "    ax.set_xticks([])\n",
    "    ax.set_yticks([])\n",
    "    ax.imshow(make_grid(images, 4).permute(1,2,0))\n",
    "    break"
   ]
  },
  {
   "cell_type": "markdown",
   "id": "6c9439ee",
   "metadata": {},
   "source": [
    "mobilenet_v3_large best   \n",
    "** Epoch 53 ** - Epoch Time 130  \n",
    "Train Loss = 0.1057  \n",
    "Train Accuracy = 96.42857142857143 %   \n",
    "\n",
    "Val Loss = 0.1132  \n",
    "Val Accuracy = 95.83333333333333 %  \n",
    "  \n",
    "loss descrease 0.1132363324154756< 0.1356593726155725  "
   ]
  },
  {
   "cell_type": "code",
   "execution_count": 21,
   "id": "c4154abf",
   "metadata": {},
   "outputs": [],
   "source": [
    "def return_model(num_classes):\n",
    "    '''\n",
    "    Эта функция возвращает экземпляр модели, построенной под наше количество классов.\n",
    "    Мы берем предобученную сеть, например mobilenet_v3_large и меняем ей \"голову\"\n",
    "    '''\n",
    "    model = models.mobilenet_v3_large(pretrained = True)\n",
    "    \n",
    "    #print(model)\n",
    "    \n",
    "    last_layer_input_features = model.classifier[-1].in_features\n",
    "    \n",
    "    model.classifier[-1] = nn.Linear(last_layer_input_features, num_classes, bias = True)\n",
    "    \n",
    "    #print(model)\n",
    "    \n",
    "    return model"
   ]
  },
  {
   "cell_type": "code",
   "execution_count": 23,
   "id": "2c54f8ed",
   "metadata": {},
   "outputs": [],
   "source": [
    "model=return_model(len(classes)) # создаем нашу модель"
   ]
  },
  {
   "cell_type": "code",
   "execution_count": 24,
   "id": "1fdeed56",
   "metadata": {},
   "outputs": [],
   "source": [
    "device = torch.device('cuda') if torch.cuda.is_available() else torch.device('cpu')\n",
    "torch.cuda.empty_cache()\n",
    "\n",
    "model.to(device)\n",
    "\n",
    "### Нюансы обучения\n",
    "#optimizer = torch.optim.Adam(model.classifier.parameters(), lr = 0.0001)\n",
    "optimizer = torch.optim.Adam(model.classifier.parameters(), lr = 0.0001) # метод оптимизации. ему даем не все параметры \n",
    "  # сети а только \"голову\", которую переделывали. Основное тело, которое выделяет эмбединги(показатели, характеристики, \n",
    "  # признаки как удобно) мы не трогаем. оно обучено уже. материал про трансферлернинг\n",
    "lr_scheduler = torch.optim.lr_scheduler.StepLR(optimizer, step_size = 4, gamma = 0.5)\n",
    "criterion = nn.CrossEntropyLoss() # функция потерь\n",
    "\n",
    "train_loss = []\n",
    "train_accuracy = []\n",
    "\n",
    "val_loss = []\n",
    "val_accuracy = []\n"
   ]
  },
  {
   "cell_type": "code",
   "execution_count": 25,
   "id": "5f4a732b",
   "metadata": {},
   "outputs": [],
   "source": [
    "def calc_accuracy(true,pred):\n",
    "    pred = F.softmax(pred, dim = 1)\n",
    "    true = torch.zeros(pred.shape[0], pred.shape[1]).scatter_(1, true.unsqueeze(1), 1.)\n",
    "    acc = (true.argmax(-1) == pred.argmax(-1)).float().detach().numpy()\n",
    "    acc = float((100 * acc.sum()) / len(acc))\n",
    "    return round(acc, 4)"
   ]
  },
  {
   "cell_type": "code",
   "execution_count": 26,
   "id": "6d903c48",
   "metadata": {},
   "outputs": [],
   "source": [
    "accuracy_stats = {\n",
    "    'train': [],\n",
    "    \"val\": []\n",
    "}\n",
    "loss_stats = {\n",
    "    'train': [],\n",
    "    \"val\": []\n",
    "}"
   ]
  },
  {
   "cell_type": "markdown",
   "id": "75a383ca",
   "metadata": {},
   "source": [
    "Я сделал обучение с механизмом раннего останова. Чтобы не надо было вбивать количество эпох обучения. Нейронка учится до тех пор, пока уменьшается значение функции потерь. Обучение останавливается само как только значение функции потерь начинает расти (не уменьшается на протяжении max_bad_epoch подряд). В процессе обучения функция потерь уменьшается т.к. мы учимся лучше классифицировать, но в определенный момент она может начать расти, хоть и точность модели все равно растет. Это из-за того что модель стала \"заучивать\" наши данные и терять обобщающую способность."
   ]
  },
  {
   "cell_type": "code",
   "execution_count": 27,
   "id": "002f2399",
   "metadata": {
    "scrolled": true
   },
   "outputs": [
    {
     "name": "stdout",
     "output_type": "stream",
     "text": [
      "** Epoch 0 ** - Epoch Time 443\n",
      "Train Loss = 1.8087\n",
      "Train Accuracy = 44.166666666666664 % \n",
      "\n",
      "Val Loss = 1.2693\n",
      "Val Accuracy = 63.5 % \n",
      "\n",
      "loss descrease 1.2692788302898408< inf \n",
      "\n",
      "** Epoch 1 ** - Epoch Time 447\n",
      "Train Loss = 1.0393\n",
      "Train Accuracy = 68.70833333333333 % \n",
      "\n",
      "Val Loss = 0.8347\n",
      "Val Accuracy = 74.5 % \n",
      "\n",
      "loss descrease 0.8347260124484698< 1.2692788302898408 \n",
      "\n",
      "** Epoch 2 ** - Epoch Time 461\n",
      "Train Loss = 0.7772\n",
      "Train Accuracy = 74.83333333333333 % \n",
      "\n",
      "Val Loss = 0.7135\n",
      "Val Accuracy = 76.33333333333333 % \n",
      "\n",
      "loss descrease 0.7135000956555207< 0.8347260124484698 \n",
      "\n",
      "** Epoch 3 ** - Epoch Time 479\n",
      "Train Loss = 0.6736\n",
      "Train Accuracy = 76.91666666666667 % \n",
      "\n",
      "Val Loss = 0.5973\n",
      "Val Accuracy = 80.83333333333333 % \n",
      "\n",
      "loss descrease 0.5973055688540141< 0.7135000956555207 \n",
      "\n",
      "** Epoch 4 ** - Epoch Time 431\n",
      "Train Loss = 0.5941\n",
      "Train Accuracy = 79.625 % \n",
      "\n",
      "Val Loss = 0.5832\n",
      "Val Accuracy = 80.5 % \n",
      "\n",
      "loss descrease 0.5831750552852949< 0.5973055688540141 \n",
      "\n",
      "** Epoch 5 ** - Epoch Time 426\n",
      "Train Loss = 0.5464\n",
      "Train Accuracy = 80.54166666666667 % \n",
      "\n",
      "Val Loss = 0.6426\n",
      "Val Accuracy = 76.83333333333333 % \n",
      "\n",
      "1 epochs without increasing \n",
      "\n",
      "** Epoch 6 ** - Epoch Time 418\n",
      "Train Loss = 0.5313\n",
      "Train Accuracy = 81.75 % \n",
      "\n",
      "Val Loss = 0.533\n",
      "Val Accuracy = 81.33333333333333 % \n",
      "\n",
      "loss descrease 0.5329975699881713< 0.5831750552852949 \n",
      "\n",
      "** Epoch 7 ** - Epoch Time 410\n",
      "Train Loss = 0.4803\n",
      "Train Accuracy = 82.45833333333333 % \n",
      "\n",
      "Val Loss = 0.5071\n",
      "Val Accuracy = 82.0 % \n",
      "\n",
      "loss descrease 0.5070910861343145< 0.5329975699881713 \n",
      "\n",
      "** Epoch 8 ** - Epoch Time 421\n",
      "Train Loss = 0.4888\n",
      "Train Accuracy = 81.41666666666667 % \n",
      "\n",
      "Val Loss = 0.5059\n",
      "Val Accuracy = 82.66666666666667 % \n",
      "\n",
      "loss descrease 0.5058850679236154< 0.5070910861343145 \n",
      "\n",
      "** Epoch 9 ** - Epoch Time 424\n",
      "Train Loss = 0.4145\n",
      "Train Accuracy = 86.0 % \n",
      "\n",
      "Val Loss = 0.4181\n",
      "Val Accuracy = 85.16666666666667 % \n",
      "\n",
      "loss descrease 0.4180577237159014< 0.5058850679236154 \n",
      "\n",
      "** Epoch 10 ** - Epoch Time 423\n",
      "Train Loss = 0.4231\n",
      "Train Accuracy = 84.25 % \n",
      "\n",
      "Val Loss = 0.5008\n",
      "Val Accuracy = 81.5 % \n",
      "\n",
      "1 epochs without increasing \n",
      "\n",
      "** Epoch 11 ** - Epoch Time 419\n",
      "Train Loss = 0.4389\n",
      "Train Accuracy = 84.16666666666667 % \n",
      "\n",
      "Val Loss = 0.438\n",
      "Val Accuracy = 83.66666666666667 % \n",
      "\n",
      "2 epochs without increasing \n",
      "\n",
      "** Epoch 12 ** - Epoch Time 421\n",
      "Train Loss = 0.3971\n",
      "Train Accuracy = 85.625 % \n",
      "\n",
      "Val Loss = 0.4573\n",
      "Val Accuracy = 83.83333333333333 % \n",
      "\n",
      "3 epochs without increasing \n",
      "\n",
      "** Epoch 13 ** - Epoch Time 423\n",
      "Train Loss = 0.3664\n",
      "Train Accuracy = 86.70833333333333 % \n",
      "\n",
      "Val Loss = 0.4182\n",
      "Val Accuracy = 84.83333333333333 % \n",
      "\n",
      "4 epochs without increasing \n",
      "\n",
      "** Epoch 14 ** - Epoch Time 418\n",
      "Train Loss = 0.3719\n",
      "Train Accuracy = 86.45833333333333 % \n",
      "\n",
      "Val Loss = 0.3903\n",
      "Val Accuracy = 84.33333333333333 % \n",
      "\n",
      "loss descrease 0.39025944189789397< 0.4180577237159014 \n",
      "\n",
      "** Epoch 15 ** - Epoch Time 420\n",
      "Train Loss = 0.374\n",
      "Train Accuracy = 85.91666666666667 % \n",
      "\n",
      "Val Loss = 0.4742\n",
      "Val Accuracy = 83.33333333333333 % \n",
      "\n",
      "1 epochs without increasing \n",
      "\n",
      "** Epoch 16 ** - Epoch Time 425\n",
      "Train Loss = 0.3508\n",
      "Train Accuracy = 86.875 % \n",
      "\n",
      "Val Loss = 0.4031\n",
      "Val Accuracy = 83.16666666666667 % \n",
      "\n",
      "2 epochs without increasing \n",
      "\n",
      "** Epoch 17 ** - Epoch Time 423\n",
      "Train Loss = 0.3735\n",
      "Train Accuracy = 85.95833333333333 % \n",
      "\n",
      "Val Loss = 0.4074\n",
      "Val Accuracy = 84.66666666666667 % \n",
      "\n",
      "3 epochs without increasing \n",
      "\n",
      "** Epoch 18 ** - Epoch Time 401\n",
      "Train Loss = 0.3612\n",
      "Train Accuracy = 86.54166666666667 % \n",
      "\n",
      "Val Loss = 0.4875\n",
      "Val Accuracy = 81.66666666666667 % \n",
      "\n",
      "4 epochs without increasing \n",
      "\n",
      "** Epoch 19 ** - Epoch Time 400\n",
      "Train Loss = 0.3308\n",
      "Train Accuracy = 87.79166666666667 % \n",
      "\n",
      "Val Loss = 0.3806\n",
      "Val Accuracy = 85.5 % \n",
      "\n",
      "loss descrease 0.38062284485669806< 0.39025944189789397 \n",
      "\n",
      "** Epoch 20 ** - Epoch Time 393\n",
      "Train Loss = 0.3462\n",
      "Train Accuracy = 86.66666666666667 % \n",
      "\n",
      "Val Loss = 0.4393\n",
      "Val Accuracy = 83.83333333333333 % \n",
      "\n",
      "1 epochs without increasing \n",
      "\n",
      "** Epoch 21 ** - Epoch Time 386\n",
      "Train Loss = 0.3201\n",
      "Train Accuracy = 88.25 % \n",
      "\n",
      "Val Loss = 0.3482\n",
      "Val Accuracy = 87.16666666666667 % \n",
      "\n",
      "loss descrease 0.34824729572981594< 0.38062284485669806 \n",
      "\n",
      "** Epoch 22 ** - Epoch Time 389\n",
      "Train Loss = 0.3277\n",
      "Train Accuracy = 87.75 % \n",
      "\n",
      "Val Loss = 0.356\n",
      "Val Accuracy = 85.83333333333333 % \n",
      "\n",
      "1 epochs without increasing \n",
      "\n",
      "** Epoch 23 ** - Epoch Time 392\n",
      "Train Loss = 0.3142\n",
      "Train Accuracy = 88.79166666666667 % \n",
      "\n",
      "Val Loss = 0.4515\n",
      "Val Accuracy = 82.5 % \n",
      "\n",
      "2 epochs without increasing \n",
      "\n",
      "** Epoch 24 ** - Epoch Time 413\n",
      "Train Loss = 0.3203\n",
      "Train Accuracy = 87.91666666666667 % \n",
      "\n",
      "Val Loss = 0.3722\n",
      "Val Accuracy = 85.66666666666667 % \n",
      "\n",
      "3 epochs without increasing \n",
      "\n",
      "** Epoch 25 ** - Epoch Time 436\n",
      "Train Loss = 0.3181\n",
      "Train Accuracy = 87.375 % \n",
      "\n",
      "Val Loss = 0.3382\n",
      "Val Accuracy = 87.33333333333333 % \n",
      "\n",
      "loss descrease 0.33821804480394346< 0.34824729572981594 \n",
      "\n",
      "** Epoch 26 ** - Epoch Time 449\n",
      "Train Loss = 0.2757\n",
      "Train Accuracy = 89.58333333333333 % \n",
      "\n",
      "Val Loss = 0.3602\n",
      "Val Accuracy = 86.0 % \n",
      "\n",
      "1 epochs without increasing \n",
      "\n",
      "** Epoch 27 ** - Epoch Time 453\n",
      "Train Loss = 0.2995\n",
      "Train Accuracy = 89.625 % \n",
      "\n",
      "Val Loss = 0.3715\n",
      "Val Accuracy = 85.33333333333333 % \n",
      "\n",
      "2 epochs without increasing \n",
      "\n",
      "** Epoch 28 ** - Epoch Time 458\n",
      "Train Loss = 0.2915\n",
      "Train Accuracy = 89.0 % \n",
      "\n",
      "Val Loss = 0.3533\n",
      "Val Accuracy = 87.5 % \n",
      "\n",
      "3 epochs without increasing \n",
      "\n",
      "** Epoch 29 ** - Epoch Time 460\n",
      "Train Loss = 0.2926\n",
      "Train Accuracy = 89.04166666666667 % \n",
      "\n",
      "Val Loss = 0.3837\n",
      "Val Accuracy = 85.16666666666667 % \n",
      "\n",
      "4 epochs without increasing \n",
      "\n",
      "** Epoch 30 ** - Epoch Time 453\n",
      "Train Loss = 0.3015\n",
      "Train Accuracy = 89.125 % \n",
      "\n",
      "Val Loss = 0.326\n",
      "Val Accuracy = 89.0 % \n",
      "\n",
      "loss descrease 0.32596355948830025< 0.33821804480394346 \n",
      "\n",
      "** Epoch 31 ** - Epoch Time 448\n",
      "Train Loss = 0.2769\n",
      "Train Accuracy = 89.66666666666667 % \n",
      "\n",
      "Val Loss = 0.3936\n",
      "Val Accuracy = 85.83333333333333 % \n",
      "\n",
      "1 epochs without increasing \n",
      "\n",
      "** Epoch 32 ** - Epoch Time 451\n",
      "Train Loss = 0.3013\n",
      "Train Accuracy = 88.5 % \n",
      "\n",
      "Val Loss = 0.3516\n",
      "Val Accuracy = 88.83333333333333 % \n",
      "\n",
      "2 epochs without increasing \n",
      "\n",
      "** Epoch 33 ** - Epoch Time 461\n",
      "Train Loss = 0.2658\n",
      "Train Accuracy = 89.83333333333333 % \n",
      "\n",
      "Val Loss = 0.297\n",
      "Val Accuracy = 88.33333333333333 % \n",
      "\n",
      "loss descrease 0.29704812765819955< 0.32596355948830025 \n",
      "\n",
      "** Epoch 34 ** - Epoch Time 433\n",
      "Train Loss = 0.2751\n",
      "Train Accuracy = 89.54166666666667 % \n",
      "\n",
      "Val Loss = 0.4184\n",
      "Val Accuracy = 85.33333333333333 % \n",
      "\n",
      "1 epochs without increasing \n",
      "\n",
      "** Epoch 35 ** - Epoch Time 434\n",
      "Train Loss = 0.2624\n",
      "Train Accuracy = 90.04166666666667 % \n",
      "\n",
      "Val Loss = 0.4278\n",
      "Val Accuracy = 83.83333333333333 % \n",
      "\n",
      "2 epochs without increasing \n",
      "\n",
      "** Epoch 36 ** - Epoch Time 432\n",
      "Train Loss = 0.2543\n",
      "Train Accuracy = 90.25 % \n",
      "\n",
      "Val Loss = 0.3219\n",
      "Val Accuracy = 86.83333333333333 % \n",
      "\n",
      "3 epochs without increasing \n",
      "\n",
      "** Epoch 37 ** - Epoch Time 432\n",
      "Train Loss = 0.2661\n",
      "Train Accuracy = 90.125 % \n",
      "\n",
      "Val Loss = 0.3469\n",
      "Val Accuracy = 87.33333333333333 % \n",
      "\n",
      "4 epochs without increasing \n",
      "\n",
      "** Epoch 38 ** - Epoch Time 428\n",
      "Train Loss = 0.2553\n",
      "Train Accuracy = 89.91666666666667 % \n",
      "\n",
      "Val Loss = 0.2955\n",
      "Val Accuracy = 88.33333333333333 % \n",
      "\n",
      "loss descrease 0.29546085921349< 0.29704812765819955 \n",
      "\n",
      "** Epoch 39 ** - Epoch Time 431\n",
      "Train Loss = 0.2725\n",
      "Train Accuracy = 90.0 % \n",
      "\n",
      "Val Loss = 0.3421\n",
      "Val Accuracy = 86.83333333333333 % \n",
      "\n",
      "1 epochs without increasing \n",
      "\n",
      "** Epoch 40 ** - Epoch Time 433\n",
      "Train Loss = 0.2357\n",
      "Train Accuracy = 90.83333333333333 % \n",
      "\n",
      "Val Loss = 0.3017\n",
      "Val Accuracy = 88.16666666666667 % \n",
      "\n",
      "2 epochs without increasing \n",
      "\n",
      "** Epoch 41 ** - Epoch Time 433\n",
      "Train Loss = 0.2326\n",
      "Train Accuracy = 91.08333333333333 % \n",
      "\n",
      "Val Loss = 0.3365\n",
      "Val Accuracy = 87.33333333333333 % \n",
      "\n",
      "3 epochs without increasing \n",
      "\n",
      "** Epoch 42 ** - Epoch Time 434\n",
      "Train Loss = 0.2654\n",
      "Train Accuracy = 89.20833333333333 % \n",
      "\n",
      "Val Loss = 0.3517\n",
      "Val Accuracy = 86.66666666666667 % \n",
      "\n",
      "4 epochs without increasing \n",
      "\n",
      "** Epoch 43 ** - Epoch Time 435\n",
      "Train Loss = 0.2482\n",
      "Train Accuracy = 89.91666666666667 % \n",
      "\n",
      "Val Loss = 0.3983\n",
      "Val Accuracy = 84.66666666666667 % \n",
      "\n",
      "5 epochs without increasing \n",
      "\n",
      "** Epoch 44 ** - Epoch Time 429\n",
      "Train Loss = 0.2792\n",
      "Train Accuracy = 90.16666666666667 % \n",
      "\n",
      "Val Loss = 0.3254\n",
      "Val Accuracy = 87.33333333333333 % \n",
      "\n",
      "6 epochs without increasing \n",
      "\n",
      "** Epoch 45 ** - Epoch Time 425\n",
      "Train Loss = 0.2509\n",
      "Train Accuracy = 90.08333333333333 % \n",
      "\n",
      "Val Loss = 0.3314\n",
      "Val Accuracy = 87.16666666666667 % \n",
      "\n",
      "7 epochs without increasing \n",
      "\n",
      "** Epoch 46 ** - Epoch Time 420\n",
      "Train Loss = 0.231\n",
      "Train Accuracy = 90.70833333333333 % \n",
      "\n",
      "Val Loss = 0.3411\n",
      "Val Accuracy = 86.0 % \n",
      "\n",
      "8 epochs without increasing \n",
      "\n"
     ]
    },
    {
     "name": "stdout",
     "output_type": "stream",
     "text": [
      "** Epoch 47 ** - Epoch Time 423\n",
      "Train Loss = 0.226\n",
      "Train Accuracy = 91.625 % \n",
      "\n",
      "Val Loss = 0.4938\n",
      "Val Accuracy = 82.83333333333333 % \n",
      "\n",
      "9 epochs without increasing \n",
      "\n",
      "** Epoch 48 ** - Epoch Time 424\n",
      "Train Loss = 0.2255\n",
      "Train Accuracy = 91.29166666666667 % \n",
      "\n",
      "Val Loss = 0.3091\n",
      "Val Accuracy = 87.83333333333333 % \n",
      "\n",
      "10 epochs without increasing \n",
      "\n",
      "** Epoch 49 ** - Epoch Time 425\n",
      "Train Loss = 0.2172\n",
      "Train Accuracy = 91.79166666666667 % \n",
      "\n",
      "Val Loss = 0.3259\n",
      "Val Accuracy = 86.16666666666667 % \n",
      "\n",
      "11 epochs without increasing \n",
      "\n",
      "** Epoch 50 ** - Epoch Time 459\n",
      "Train Loss = 0.2106\n",
      "Train Accuracy = 92.54166666666667 % \n",
      "\n",
      "Val Loss = 0.3547\n",
      "Val Accuracy = 86.83333333333333 % \n",
      "\n",
      "12 epochs without increasing \n",
      "\n",
      "enough \n",
      "\n",
      "CPU times: total: 2d 38min 32s\n",
      "Wall time: 6h 5min 29s\n"
     ]
    }
   ],
   "source": [
    "%%time\n",
    "### Training Code\n",
    "best_model_wts = copy.deepcopy(model.state_dict()) # это чтобы скопировать объект целиком а не указатель\n",
    "PATH = './best_spectrogram_12classes_10_noise.pt' # сохраняем лучший результат. если будете запускать с разными параметрами или \n",
    "                                    # на разных данных то меняйте название\n",
    "best_loss = math.inf\n",
    "train = True\n",
    "earley_stoping =12 # ранний останов. количество эпох, идущих подряд без улучшения результата, \n",
    "                    # достигнув которое мы останавливаемся но лучше 10\n",
    "earley_stoping_counter = 0 # счетчик\n",
    "epoch=0 # счетчик\n",
    "while train:\n",
    "    start = time.time()\n",
    "    \n",
    "    #Epoch Loss & Accuracy\n",
    "    train_epoch_loss = []\n",
    "    train_epoch_accuracy = []\n",
    "    \n",
    "    #Val Loss & Accuracy\n",
    "    val_epoch_loss = []\n",
    "    val_epoch_accuracy = []\n",
    "    \n",
    "    # Training\n",
    "    for images, labels in train_data_loader:\n",
    "        \n",
    "        images = images.to(device)\n",
    "        labels = labels.to(device)\n",
    "        \n",
    "        #Reset Grads\n",
    "        optimizer.zero_grad()\n",
    "        \n",
    "        #Forward ->\n",
    "        preds = model(images)\n",
    "        #Calculate Accuracy\n",
    "        acc = calc_accuracy(labels.cpu(), preds.cpu())\n",
    "        \n",
    "        #Calculate Loss & Backward, Update Weights (Step) <- backward\n",
    "        loss = criterion(preds, labels)\n",
    "        loss.backward()\n",
    "        optimizer.step()\n",
    "        \n",
    "        #Append loss & acc\n",
    "        loss_value = loss.item()\n",
    "        train_epoch_loss.append(loss_value)\n",
    "        train_epoch_accuracy.append(acc)\n",
    "    \n",
    "    #Validation\n",
    "    with torch.no_grad():\n",
    "        for images, labels in valid_data_loader:\n",
    "\n",
    "            images = images.to(device)\n",
    "            labels = labels.to(device)\n",
    "\n",
    "            #Forward ->\n",
    "            preds = model(images)\n",
    "\n",
    "            #Calculate Accuracy\n",
    "            acc = calc_accuracy(labels.cpu(), preds.cpu())\n",
    "\n",
    "            #Calculate Loss\n",
    "            loss = criterion(preds, labels)\n",
    "\n",
    "            #Append loss & acc\n",
    "            loss_value = loss.item()\n",
    "            val_epoch_loss.append(loss_value)\n",
    "            val_epoch_accuracy.append(acc)\n",
    "\n",
    "    \n",
    "    train_epoch_loss = np.mean(train_epoch_loss)\n",
    "    train_epoch_accuracy = np.mean(train_epoch_accuracy)\n",
    "    val_epoch_loss = np.mean(val_epoch_loss)\n",
    "    val_epoch_accuracy = np.mean(val_epoch_accuracy)\n",
    "    \n",
    "    loss_stats['train'].append(train_epoch_loss)\n",
    "    accuracy_stats['train'].append(train_epoch_accuracy)\n",
    "    loss_stats['val'].append(val_epoch_loss)\n",
    "    accuracy_stats['val'].append(val_epoch_accuracy)\n",
    "    \n",
    "    end = time.time()\n",
    "    \n",
    "    #Print Epoch Statistics\n",
    "    print(\"** Epoch {} ** - Epoch Time {}\".format(epoch, int(end-start)))\n",
    "    print(\"Train Loss = {}\".format(round(train_epoch_loss, 4)))\n",
    "    print(\"Train Accuracy = {} % \\n\".format(train_epoch_accuracy))\n",
    "    print(\"Val Loss = {}\".format(round(val_epoch_loss, 4)))\n",
    "    print(\"Val Accuracy = {} % \\n\".format(val_epoch_accuracy))\n",
    "    epoch+=1\n",
    "    \n",
    "    # если результат на валидации улучшился то сохраняем текущие веса\n",
    "    if val_epoch_loss< best_loss:\n",
    "        print(f'loss descrease {val_epoch_loss}< {best_loss} \\n')\n",
    "        best_loss = val_epoch_loss\n",
    "        best_model_wts = copy.deepcopy(model.state_dict())\n",
    "        torch.save(model.state_dict(), PATH)\n",
    "        earley_stoping_counter = 0\n",
    "    # иначе - обновляем счетчик\n",
    "    else:\n",
    "        earley_stoping_counter+=1\n",
    "        print(f'{earley_stoping_counter} epochs without increasing \\n')\n",
    "    # счетчик неудачных попыток обучения достиг контрольного значения. останавливаемся\n",
    "    if earley_stoping_counter >= earley_stoping:\n",
    "        print(f'enough \\n')\n",
    "        train = False\n",
    "        "
   ]
  },
  {
   "cell_type": "markdown",
   "id": "51200c90",
   "metadata": {},
   "source": [
    "only noise\n",
    "\n",
    "loss descrease 0.29546085921349< 0.29704812765819955 \n",
    "\n",
    "** Epoch 39 ** - Epoch Time 431\n",
    "Train Loss = 0.2725\n",
    "Train Accuracy = 90.0 % \n",
    "\n",
    "Val Loss = 0.3421\n",
    "Val Accuracy = 86.83333333333333 % "
   ]
  },
  {
   "cell_type": "code",
   "execution_count": 28,
   "id": "71e2fb4a",
   "metadata": {},
   "outputs": [
    {
     "data": {
      "text/plain": [
       "Text(0.5, 1.0, 'Train-Val Loss/Epoch')"
      ]
     },
     "execution_count": 28,
     "metadata": {},
     "output_type": "execute_result"
    },
    {
     "data": {
      "image/png": "[encoded data removed]",
      "text/plain": [
       "<Figure size 1440x504 with 2 Axes>"
      ]
     },
     "metadata": {
      "needs_background": "light"
     },
     "output_type": "display_data"
    }
   ],
   "source": [
    "# строим графики как менялась точность и функция потерь в процессе обучения\n",
    "train_val_acc_df = pd.DataFrame.from_dict(accuracy_stats).reset_index().melt(id_vars=\n",
    "                                        ['index']).rename(columns={\"index\":\"epochs\"})\n",
    "\n",
    "train_val_loss_df = pd.DataFrame.from_dict(loss_stats).reset_index().melt(id_vars=\n",
    "                                        ['index']).rename(columns={\"index\":\"epochs\"})# Plot the dataframes\n",
    "\n",
    "fig, axes = plt.subplots(nrows=1, ncols=2, figsize=(20,7))\n",
    "\n",
    "sns.lineplot(data=train_val_acc_df, x = \"epochs\", y=\"value\", hue=\"variable\",\n",
    "             ax=axes[0]).set_title('Train-Val Accuracy/Epoch')\n",
    "sns.lineplot(data=train_val_loss_df, x = \"epochs\", y=\"value\", hue=\"variable\",\n",
    "             ax=axes[1]).set_title('Train-Val Loss/Epoch')"
   ]
  },
  {
   "cell_type": "code",
   "execution_count": 29,
   "id": "b058f165",
   "metadata": {
    "scrolled": true
   },
   "outputs": [
    {
     "data": {
      "text/plain": [
       "Text(0.5, 1.0, 'Train-Val Loss/Epoch')"
      ]
     },
     "execution_count": 29,
     "metadata": {},
     "output_type": "execute_result"
    }
   ],
   "source": [
    "# Строим графики значений точности и функции потерь в зависимости от количества эпох.\n",
    "sns.lineplot(data=train_val_acc_df, x = \"epochs\", y=\"value\", hue=\"variable\",\n",
    "             ax=axes[0]).set_title('Train-Val Accuracy/Epoch')\n",
    "sns.lineplot(data=train_val_loss_df, x = \"epochs\", y=\"value\", hue=\"variable\",\n",
    "             ax=axes[1]).set_title('Train-Val Loss/Epoch')"
   ]
  },
  {
   "cell_type": "markdown",
   "id": "0d140d82",
   "metadata": {},
   "source": [
    "# Infer"
   ]
  },
  {
   "cell_type": "markdown",
   "id": "58054767",
   "metadata": {},
   "source": [
    "небольшой набросок кода для ручного тестирования"
   ]
  },
  {
   "cell_type": "code",
   "execution_count": 161,
   "id": "41ca8bb8",
   "metadata": {},
   "outputs": [],
   "source": [
    "test_transforms = T.Compose([T.ToTensor()])\n",
    "device = torch.device('cuda') if torch.cuda.is_available() else torch.device('cpu')\n",
    "torch.cuda.empty_cache()\n",
    "\n",
    "\n",
    "def infer(model,wav_file,window_size=1024, transforms= None):\n",
    "    '''\n",
    "    \n",
    "    '''\n",
    "    with torch.no_grad():\n",
    "        # раздел создания спектрограммы для классификации должен быть полностью \n",
    "        # идентичен разделу создания спектрограмм для тренировки. главное параметры n_fft=window_size, hop_length=512\n",
    "        Audio = AudioSegment.from_wav(wav_file) # считываем аудио\n",
    "        sample = Audio[0*1000:5*1000]\n",
    "        sample_name = './temp.wav'\n",
    "        sample.export(sample_name, format=\"wav\")\n",
    "        \n",
    "        \n",
    "        y, sr = librosa.load(sample_name)\n",
    "        window = np.hanning(window_size)\n",
    "        stft  = librosa.core.spectrum.stft(y, n_fft=window_size, hop_length=512, window=window)\n",
    "        out = 2 * np.abs(stft) / np.sum(window)\n",
    "        fig = plt.Figure(frameon=False)\n",
    "        canvas = FigureCanvas(fig)\n",
    "        ax = fig.add_subplot(111)\n",
    "        ax.axis('off')\n",
    "        p = librosa.display.specshow(librosa.amplitude_to_db(out, ref=np.max), ax=ax)\n",
    "\n",
    "        # спктрограмма сохраняется во временный файл\n",
    "        temp = wav_file.split('/')[-1]\n",
    "        temp = './' + temp.split('.')[0]+'.png'\n",
    "\n",
    "        fig.savefig(temp\n",
    "                    ,pad_inches = 0)\n",
    "\n",
    "\n",
    "        # считываем так же как в классе Dataset\n",
    "        image = cv2.imread(temp, cv2.IMREAD_COLOR)\n",
    "        os.remove(temp)\n",
    "        image = cv2.cvtColor(image, cv2.COLOR_BGR2RGB).astype(np.float32)\n",
    "        image /= 255.0\n",
    "\n",
    "\n",
    "        image_tensor = test_transforms(image).float()\n",
    "        image_tensor = image_tensor.unsqueeze_(0)\n",
    "        image_tensor.to(device)\n",
    "\n",
    "        # осуществляем предсказание\n",
    "        output = model(image_tensor)\n",
    "        # Я в качеству выходного слоя использую простой полносвязный слой потому переменная output  \n",
    "        # выглядит следующим образом tensor([[ 1.1148, -5.1110,  0.7156, -3.0015, -6.2952, -7.0076, -4.0860, -2.2178,\n",
    "        #     -3.6325, -2.1464,  4.4616,  0.0611]]). Я считаю что такой подход лучше всего \n",
    "        # потому что не связывает руки\n",
    "        index = torch.argmax(output, dim=1)\n",
    "        # В переменной index лежит индекс самого большого значения в тензоре. для примера выше это будет 10.\n",
    "        # Если нужно то тензор output можно переделать в тензор с вероятностями командами  \n",
    "        # sm = torch.nn.Softmax()\n",
    "        # probabilities = sm(b)\n",
    "        # тогда тензор с вероятностями для примера выше будет выглядеть следующим образом\n",
    "        # tensor([[3.2745e-02, 6.4759e-05, 2.1967e-02, 5.3391e-04, 1.9815e-05, 9.7192e-06,\n",
    "        #     1.8049e-04, 1.1690e-03, 2.8406e-04, 1.2556e-03, 9.3035e-01, 1.1417e-02]],\n",
    "        # и самая большая вероятность будет опять у элемента с индексом 10\n",
    "        return index, output"
   ]
  },
  {
   "cell_type": "code",
   "execution_count": 162,
   "id": "4ae38a7b",
   "metadata": {},
   "outputs": [],
   "source": [
    "model1=return_model(12) # создаем нашу модель"
   ]
  },
  {
   "cell_type": "code",
   "execution_count": 163,
   "id": "bcae2077",
   "metadata": {},
   "outputs": [
    {
     "data": {
      "text/plain": [
       "MobileNetV3(\n",
       "  (features): Sequential(\n",
       "    (0): ConvNormActivation(\n",
       "      (0): Conv2d(3, 16, kernel_size=(3, 3), stride=(2, 2), padding=(1, 1), bias=False)\n",
       "      (1): BatchNorm2d(16, eps=0.001, momentum=0.01, affine=True, track_running_stats=True)\n",
       "      (2): Hardswish()\n",
       "    )\n",
       "    (1): InvertedResidual(\n",
       "      (block): Sequential(\n",
       "        (0): ConvNormActivation(\n",
       "          (0): Conv2d(16, 16, kernel_size=(3, 3), stride=(1, 1), padding=(1, 1), groups=16, bias=False)\n",
       "          (1): BatchNorm2d(16, eps=0.001, momentum=0.01, affine=True, track_running_stats=True)\n",
       "          (2): ReLU(inplace=True)\n",
       "        )\n",
       "        (1): ConvNormActivation(\n",
       "          (0): Conv2d(16, 16, kernel_size=(1, 1), stride=(1, 1), bias=False)\n",
       "          (1): BatchNorm2d(16, eps=0.001, momentum=0.01, affine=True, track_running_stats=True)\n",
       "        )\n",
       "      )\n",
       "    )\n",
       "    (2): InvertedResidual(\n",
       "      (block): Sequential(\n",
       "        (0): ConvNormActivation(\n",
       "          (0): Conv2d(16, 64, kernel_size=(1, 1), stride=(1, 1), bias=False)\n",
       "          (1): BatchNorm2d(64, eps=0.001, momentum=0.01, affine=True, track_running_stats=True)\n",
       "          (2): ReLU(inplace=True)\n",
       "        )\n",
       "        (1): ConvNormActivation(\n",
       "          (0): Conv2d(64, 64, kernel_size=(3, 3), stride=(2, 2), padding=(1, 1), groups=64, bias=False)\n",
       "          (1): BatchNorm2d(64, eps=0.001, momentum=0.01, affine=True, track_running_stats=True)\n",
       "          (2): ReLU(inplace=True)\n",
       "        )\n",
       "        (2): ConvNormActivation(\n",
       "          (0): Conv2d(64, 24, kernel_size=(1, 1), stride=(1, 1), bias=False)\n",
       "          (1): BatchNorm2d(24, eps=0.001, momentum=0.01, affine=True, track_running_stats=True)\n",
       "        )\n",
       "      )\n",
       "    )\n",
       "    (3): InvertedResidual(\n",
       "      (block): Sequential(\n",
       "        (0): ConvNormActivation(\n",
       "          (0): Conv2d(24, 72, kernel_size=(1, 1), stride=(1, 1), bias=False)\n",
       "          (1): BatchNorm2d(72, eps=0.001, momentum=0.01, affine=True, track_running_stats=True)\n",
       "          (2): ReLU(inplace=True)\n",
       "        )\n",
       "        (1): ConvNormActivation(\n",
       "          (0): Conv2d(72, 72, kernel_size=(3, 3), stride=(1, 1), padding=(1, 1), groups=72, bias=False)\n",
       "          (1): BatchNorm2d(72, eps=0.001, momentum=0.01, affine=True, track_running_stats=True)\n",
       "          (2): ReLU(inplace=True)\n",
       "        )\n",
       "        (2): ConvNormActivation(\n",
       "          (0): Conv2d(72, 24, kernel_size=(1, 1), stride=(1, 1), bias=False)\n",
       "          (1): BatchNorm2d(24, eps=0.001, momentum=0.01, affine=True, track_running_stats=True)\n",
       "        )\n",
       "      )\n",
       "    )\n",
       "    (4): InvertedResidual(\n",
       "      (block): Sequential(\n",
       "        (0): ConvNormActivation(\n",
       "          (0): Conv2d(24, 72, kernel_size=(1, 1), stride=(1, 1), bias=False)\n",
       "          (1): BatchNorm2d(72, eps=0.001, momentum=0.01, affine=True, track_running_stats=True)\n",
       "          (2): ReLU(inplace=True)\n",
       "        )\n",
       "        (1): ConvNormActivation(\n",
       "          (0): Conv2d(72, 72, kernel_size=(5, 5), stride=(2, 2), padding=(2, 2), groups=72, bias=False)\n",
       "          (1): BatchNorm2d(72, eps=0.001, momentum=0.01, affine=True, track_running_stats=True)\n",
       "          (2): ReLU(inplace=True)\n",
       "        )\n",
       "        (2): SqueezeExcitation(\n",
       "          (avgpool): AdaptiveAvgPool2d(output_size=1)\n",
       "          (fc1): Conv2d(72, 24, kernel_size=(1, 1), stride=(1, 1))\n",
       "          (fc2): Conv2d(24, 72, kernel_size=(1, 1), stride=(1, 1))\n",
       "          (activation): ReLU()\n",
       "          (scale_activation): Hardsigmoid()\n",
       "        )\n",
       "        (3): ConvNormActivation(\n",
       "          (0): Conv2d(72, 40, kernel_size=(1, 1), stride=(1, 1), bias=False)\n",
       "          (1): BatchNorm2d(40, eps=0.001, momentum=0.01, affine=True, track_running_stats=True)\n",
       "        )\n",
       "      )\n",
       "    )\n",
       "    (5): InvertedResidual(\n",
       "      (block): Sequential(\n",
       "        (0): ConvNormActivation(\n",
       "          (0): Conv2d(40, 120, kernel_size=(1, 1), stride=(1, 1), bias=False)\n",
       "          (1): BatchNorm2d(120, eps=0.001, momentum=0.01, affine=True, track_running_stats=True)\n",
       "          (2): ReLU(inplace=True)\n",
       "        )\n",
       "        (1): ConvNormActivation(\n",
       "          (0): Conv2d(120, 120, kernel_size=(5, 5), stride=(1, 1), padding=(2, 2), groups=120, bias=False)\n",
       "          (1): BatchNorm2d(120, eps=0.001, momentum=0.01, affine=True, track_running_stats=True)\n",
       "          (2): ReLU(inplace=True)\n",
       "        )\n",
       "        (2): SqueezeExcitation(\n",
       "          (avgpool): AdaptiveAvgPool2d(output_size=1)\n",
       "          (fc1): Conv2d(120, 32, kernel_size=(1, 1), stride=(1, 1))\n",
       "          (fc2): Conv2d(32, 120, kernel_size=(1, 1), stride=(1, 1))\n",
       "          (activation): ReLU()\n",
       "          (scale_activation): Hardsigmoid()\n",
       "        )\n",
       "        (3): ConvNormActivation(\n",
       "          (0): Conv2d(120, 40, kernel_size=(1, 1), stride=(1, 1), bias=False)\n",
       "          (1): BatchNorm2d(40, eps=0.001, momentum=0.01, affine=True, track_running_stats=True)\n",
       "        )\n",
       "      )\n",
       "    )\n",
       "    (6): InvertedResidual(\n",
       "      (block): Sequential(\n",
       "        (0): ConvNormActivation(\n",
       "          (0): Conv2d(40, 120, kernel_size=(1, 1), stride=(1, 1), bias=False)\n",
       "          (1): BatchNorm2d(120, eps=0.001, momentum=0.01, affine=True, track_running_stats=True)\n",
       "          (2): ReLU(inplace=True)\n",
       "        )\n",
       "        (1): ConvNormActivation(\n",
       "          (0): Conv2d(120, 120, kernel_size=(5, 5), stride=(1, 1), padding=(2, 2), groups=120, bias=False)\n",
       "          (1): BatchNorm2d(120, eps=0.001, momentum=0.01, affine=True, track_running_stats=True)\n",
       "          (2): ReLU(inplace=True)\n",
       "        )\n",
       "        (2): SqueezeExcitation(\n",
       "          (avgpool): AdaptiveAvgPool2d(output_size=1)\n",
       "          (fc1): Conv2d(120, 32, kernel_size=(1, 1), stride=(1, 1))\n",
       "          (fc2): Conv2d(32, 120, kernel_size=(1, 1), stride=(1, 1))\n",
       "          (activation): ReLU()\n",
       "          (scale_activation): Hardsigmoid()\n",
       "        )\n",
       "        (3): ConvNormActivation(\n",
       "          (0): Conv2d(120, 40, kernel_size=(1, 1), stride=(1, 1), bias=False)\n",
       "          (1): BatchNorm2d(40, eps=0.001, momentum=0.01, affine=True, track_running_stats=True)\n",
       "        )\n",
       "      )\n",
       "    )\n",
       "    (7): InvertedResidual(\n",
       "      (block): Sequential(\n",
       "        (0): ConvNormActivation(\n",
       "          (0): Conv2d(40, 240, kernel_size=(1, 1), stride=(1, 1), bias=False)\n",
       "          (1): BatchNorm2d(240, eps=0.001, momentum=0.01, affine=True, track_running_stats=True)\n",
       "          (2): Hardswish()\n",
       "        )\n",
       "        (1): ConvNormActivation(\n",
       "          (0): Conv2d(240, 240, kernel_size=(3, 3), stride=(2, 2), padding=(1, 1), groups=240, bias=False)\n",
       "          (1): BatchNorm2d(240, eps=0.001, momentum=0.01, affine=True, track_running_stats=True)\n",
       "          (2): Hardswish()\n",
       "        )\n",
       "        (2): ConvNormActivation(\n",
       "          (0): Conv2d(240, 80, kernel_size=(1, 1), stride=(1, 1), bias=False)\n",
       "          (1): BatchNorm2d(80, eps=0.001, momentum=0.01, affine=True, track_running_stats=True)\n",
       "        )\n",
       "      )\n",
       "    )\n",
       "    (8): InvertedResidual(\n",
       "      (block): Sequential(\n",
       "        (0): ConvNormActivation(\n",
       "          (0): Conv2d(80, 200, kernel_size=(1, 1), stride=(1, 1), bias=False)\n",
       "          (1): BatchNorm2d(200, eps=0.001, momentum=0.01, affine=True, track_running_stats=True)\n",
       "          (2): Hardswish()\n",
       "        )\n",
       "        (1): ConvNormActivation(\n",
       "          (0): Conv2d(200, 200, kernel_size=(3, 3), stride=(1, 1), padding=(1, 1), groups=200, bias=False)\n",
       "          (1): BatchNorm2d(200, eps=0.001, momentum=0.01, affine=True, track_running_stats=True)\n",
       "          (2): Hardswish()\n",
       "        )\n",
       "        (2): ConvNormActivation(\n",
       "          (0): Conv2d(200, 80, kernel_size=(1, 1), stride=(1, 1), bias=False)\n",
       "          (1): BatchNorm2d(80, eps=0.001, momentum=0.01, affine=True, track_running_stats=True)\n",
       "        )\n",
       "      )\n",
       "    )\n",
       "    (9): InvertedResidual(\n",
       "      (block): Sequential(\n",
       "        (0): ConvNormActivation(\n",
       "          (0): Conv2d(80, 184, kernel_size=(1, 1), stride=(1, 1), bias=False)\n",
       "          (1): BatchNorm2d(184, eps=0.001, momentum=0.01, affine=True, track_running_stats=True)\n",
       "          (2): Hardswish()\n",
       "        )\n",
       "        (1): ConvNormActivation(\n",
       "          (0): Conv2d(184, 184, kernel_size=(3, 3), stride=(1, 1), padding=(1, 1), groups=184, bias=False)\n",
       "          (1): BatchNorm2d(184, eps=0.001, momentum=0.01, affine=True, track_running_stats=True)\n",
       "          (2): Hardswish()\n",
       "        )\n",
       "        (2): ConvNormActivation(\n",
       "          (0): Conv2d(184, 80, kernel_size=(1, 1), stride=(1, 1), bias=False)\n",
       "          (1): BatchNorm2d(80, eps=0.001, momentum=0.01, affine=True, track_running_stats=True)\n",
       "        )\n",
       "      )\n",
       "    )\n",
       "    (10): InvertedResidual(\n",
       "      (block): Sequential(\n",
       "        (0): ConvNormActivation(\n",
       "          (0): Conv2d(80, 184, kernel_size=(1, 1), stride=(1, 1), bias=False)\n",
       "          (1): BatchNorm2d(184, eps=0.001, momentum=0.01, affine=True, track_running_stats=True)\n",
       "          (2): Hardswish()\n",
       "        )\n",
       "        (1): ConvNormActivation(\n",
       "          (0): Conv2d(184, 184, kernel_size=(3, 3), stride=(1, 1), padding=(1, 1), groups=184, bias=False)\n",
       "          (1): BatchNorm2d(184, eps=0.001, momentum=0.01, affine=True, track_running_stats=True)\n",
       "          (2): Hardswish()\n",
       "        )\n",
       "        (2): ConvNormActivation(\n",
       "          (0): Conv2d(184, 80, kernel_size=(1, 1), stride=(1, 1), bias=False)\n",
       "          (1): BatchNorm2d(80, eps=0.001, momentum=0.01, affine=True, track_running_stats=True)\n",
       "        )\n",
       "      )\n",
       "    )\n",
       "    (11): InvertedResidual(\n",
       "      (block): Sequential(\n",
       "        (0): ConvNormActivation(\n",
       "          (0): Conv2d(80, 480, kernel_size=(1, 1), stride=(1, 1), bias=False)\n",
       "          (1): BatchNorm2d(480, eps=0.001, momentum=0.01, affine=True, track_running_stats=True)\n",
       "          (2): Hardswish()\n",
       "        )\n",
       "        (1): ConvNormActivation(\n",
       "          (0): Conv2d(480, 480, kernel_size=(3, 3), stride=(1, 1), padding=(1, 1), groups=480, bias=False)\n",
       "          (1): BatchNorm2d(480, eps=0.001, momentum=0.01, affine=True, track_running_stats=True)\n",
       "          (2): Hardswish()\n",
       "        )\n",
       "        (2): SqueezeExcitation(\n",
       "          (avgpool): AdaptiveAvgPool2d(output_size=1)\n",
       "          (fc1): Conv2d(480, 120, kernel_size=(1, 1), stride=(1, 1))\n",
       "          (fc2): Conv2d(120, 480, kernel_size=(1, 1), stride=(1, 1))\n",
       "          (activation): ReLU()\n",
       "          (scale_activation): Hardsigmoid()\n",
       "        )\n",
       "        (3): ConvNormActivation(\n",
       "          (0): Conv2d(480, 112, kernel_size=(1, 1), stride=(1, 1), bias=False)\n",
       "          (1): BatchNorm2d(112, eps=0.001, momentum=0.01, affine=True, track_running_stats=True)\n",
       "        )\n",
       "      )\n",
       "    )\n",
       "    (12): InvertedResidual(\n",
       "      (block): Sequential(\n",
       "        (0): ConvNormActivation(\n",
       "          (0): Conv2d(112, 672, kernel_size=(1, 1), stride=(1, 1), bias=False)\n",
       "          (1): BatchNorm2d(672, eps=0.001, momentum=0.01, affine=True, track_running_stats=True)\n",
       "          (2): Hardswish()\n",
       "        )\n",
       "        (1): ConvNormActivation(\n",
       "          (0): Conv2d(672, 672, kernel_size=(3, 3), stride=(1, 1), padding=(1, 1), groups=672, bias=False)\n",
       "          (1): BatchNorm2d(672, eps=0.001, momentum=0.01, affine=True, track_running_stats=True)\n",
       "          (2): Hardswish()\n",
       "        )\n",
       "        (2): SqueezeExcitation(\n",
       "          (avgpool): AdaptiveAvgPool2d(output_size=1)\n",
       "          (fc1): Conv2d(672, 168, kernel_size=(1, 1), stride=(1, 1))\n",
       "          (fc2): Conv2d(168, 672, kernel_size=(1, 1), stride=(1, 1))\n",
       "          (activation): ReLU()\n",
       "          (scale_activation): Hardsigmoid()\n",
       "        )\n",
       "        (3): ConvNormActivation(\n",
       "          (0): Conv2d(672, 112, kernel_size=(1, 1), stride=(1, 1), bias=False)\n",
       "          (1): BatchNorm2d(112, eps=0.001, momentum=0.01, affine=True, track_running_stats=True)\n",
       "        )\n",
       "      )\n",
       "    )\n",
       "    (13): InvertedResidual(\n",
       "      (block): Sequential(\n",
       "        (0): ConvNormActivation(\n",
       "          (0): Conv2d(112, 672, kernel_size=(1, 1), stride=(1, 1), bias=False)\n",
       "          (1): BatchNorm2d(672, eps=0.001, momentum=0.01, affine=True, track_running_stats=True)\n",
       "          (2): Hardswish()\n",
       "        )\n",
       "        (1): ConvNormActivation(\n",
       "          (0): Conv2d(672, 672, kernel_size=(5, 5), stride=(2, 2), padding=(2, 2), groups=672, bias=False)\n",
       "          (1): BatchNorm2d(672, eps=0.001, momentum=0.01, affine=True, track_running_stats=True)\n",
       "          (2): Hardswish()\n",
       "        )\n",
       "        (2): SqueezeExcitation(\n",
       "          (avgpool): AdaptiveAvgPool2d(output_size=1)\n",
       "          (fc1): Conv2d(672, 168, kernel_size=(1, 1), stride=(1, 1))\n",
       "          (fc2): Conv2d(168, 672, kernel_size=(1, 1), stride=(1, 1))\n",
       "          (activation): ReLU()\n",
       "          (scale_activation): Hardsigmoid()\n",
       "        )\n",
       "        (3): ConvNormActivation(\n",
       "          (0): Conv2d(672, 160, kernel_size=(1, 1), stride=(1, 1), bias=False)\n",
       "          (1): BatchNorm2d(160, eps=0.001, momentum=0.01, affine=True, track_running_stats=True)\n",
       "        )\n",
       "      )\n",
       "    )\n",
       "    (14): InvertedResidual(\n",
       "      (block): Sequential(\n",
       "        (0): ConvNormActivation(\n",
       "          (0): Conv2d(160, 960, kernel_size=(1, 1), stride=(1, 1), bias=False)\n",
       "          (1): BatchNorm2d(960, eps=0.001, momentum=0.01, affine=True, track_running_stats=True)\n",
       "          (2): Hardswish()\n",
       "        )\n",
       "        (1): ConvNormActivation(\n",
       "          (0): Conv2d(960, 960, kernel_size=(5, 5), stride=(1, 1), padding=(2, 2), groups=960, bias=False)\n",
       "          (1): BatchNorm2d(960, eps=0.001, momentum=0.01, affine=True, track_running_stats=True)\n",
       "          (2): Hardswish()\n",
       "        )\n",
       "        (2): SqueezeExcitation(\n",
       "          (avgpool): AdaptiveAvgPool2d(output_size=1)\n",
       "          (fc1): Conv2d(960, 240, kernel_size=(1, 1), stride=(1, 1))\n",
       "          (fc2): Conv2d(240, 960, kernel_size=(1, 1), stride=(1, 1))\n",
       "          (activation): ReLU()\n",
       "          (scale_activation): Hardsigmoid()\n",
       "        )\n",
       "        (3): ConvNormActivation(\n",
       "          (0): Conv2d(960, 160, kernel_size=(1, 1), stride=(1, 1), bias=False)\n",
       "          (1): BatchNorm2d(160, eps=0.001, momentum=0.01, affine=True, track_running_stats=True)\n",
       "        )\n",
       "      )\n",
       "    )\n",
       "    (15): InvertedResidual(\n",
       "      (block): Sequential(\n",
       "        (0): ConvNormActivation(\n",
       "          (0): Conv2d(160, 960, kernel_size=(1, 1), stride=(1, 1), bias=False)\n",
       "          (1): BatchNorm2d(960, eps=0.001, momentum=0.01, affine=True, track_running_stats=True)\n",
       "          (2): Hardswish()\n",
       "        )\n",
       "        (1): ConvNormActivation(\n",
       "          (0): Conv2d(960, 960, kernel_size=(5, 5), stride=(1, 1), padding=(2, 2), groups=960, bias=False)\n",
       "          (1): BatchNorm2d(960, eps=0.001, momentum=0.01, affine=True, track_running_stats=True)\n",
       "          (2): Hardswish()\n",
       "        )\n",
       "        (2): SqueezeExcitation(\n",
       "          (avgpool): AdaptiveAvgPool2d(output_size=1)\n",
       "          (fc1): Conv2d(960, 240, kernel_size=(1, 1), stride=(1, 1))\n",
       "          (fc2): Conv2d(240, 960, kernel_size=(1, 1), stride=(1, 1))\n",
       "          (activation): ReLU()\n",
       "          (scale_activation): Hardsigmoid()\n",
       "        )\n",
       "        (3): ConvNormActivation(\n",
       "          (0): Conv2d(960, 160, kernel_size=(1, 1), stride=(1, 1), bias=False)\n",
       "          (1): BatchNorm2d(160, eps=0.001, momentum=0.01, affine=True, track_running_stats=True)\n",
       "        )\n",
       "      )\n",
       "    )\n",
       "    (16): ConvNormActivation(\n",
       "      (0): Conv2d(160, 960, kernel_size=(1, 1), stride=(1, 1), bias=False)\n",
       "      (1): BatchNorm2d(960, eps=0.001, momentum=0.01, affine=True, track_running_stats=True)\n",
       "      (2): Hardswish()\n",
       "    )\n",
       "  )\n",
       "  (avgpool): AdaptiveAvgPool2d(output_size=1)\n",
       "  (classifier): Sequential(\n",
       "    (0): Linear(in_features=960, out_features=1280, bias=True)\n",
       "    (1): Hardswish()\n",
       "    (2): Dropout(p=0.2, inplace=True)\n",
       "    (3): Linear(in_features=1280, out_features=12, bias=True)\n",
       "  )\n",
       ")"
      ]
     },
     "execution_count": 163,
     "metadata": {},
     "output_type": "execute_result"
    }
   ],
   "source": [
    "model1.load_state_dict(torch.load(PATH))\n",
    "model1.eval()"
   ]
  },
  {
   "cell_type": "code",
   "execution_count": 164,
   "id": "77e17d13",
   "metadata": {},
   "outputs": [],
   "source": [
    "#model"
   ]
  },
  {
   "cell_type": "code",
   "execution_count": 165,
   "id": "fe083f8d",
   "metadata": {},
   "outputs": [],
   "source": [
    "int_to_class={0: 'Исправный, заводское состояние, новый',\n",
    "              1: 'Дефект наружнегл кольца, средний',\n",
    "              2: 'Дефект наружнего кольца, крупный',\n",
    "              3: 'Дефект внутреннего кольца, средний',\n",
    "              4: 'Дефект внутреннего кольца, крупный',\n",
    "              5: 'Дисбаланс 15 гр',\n",
    "              6: 'Дисбаланс 30 гр',\n",
    "              7: 'Промыт полностью от смазки. Отсутсивие смазки',\n",
    "              8: 'Недостаток смазки',\n",
    "              9: 'Грязь в смазке',\n",
    "              10: 'Сильно загрязнённая смазка',\n",
    "              11: 'Дефект наружнегл кольца, лёгкий'}"
   ]
  },
  {
   "cell_type": "markdown",
   "id": "f06391cd",
   "metadata": {},
   "source": [
    "{'Test1': 0, 'Test10': 1, 'Test11': 2, 'Test12': 3, 'Test13': 4, 'Test2': 5, 'Test3': 6, 'Test4': 7, 'Test5': 8, 'Test6': 9, 'Test7': 10, 'Test9': 11}\n",
    "{0: 'Test1', 1: 'Test10', 2: 'Test11', 3: 'Test12', 4: 'Test13', 5: 'Test2', 6: 'Test3', 7: 'Test4', 8: 'Test5', 9: 'Test6', 10: 'Test7', 11: 'Test9'}"
   ]
  },
  {
   "cell_type": "code",
   "execution_count": 192,
   "id": "1e40a221",
   "metadata": {},
   "outputs": [],
   "source": [
    "index,tensor=infer(model1,'./Для тестов/Для тестов/Test-1.wav')   "
   ]
  },
  {
   "cell_type": "code",
   "execution_count": 193,
   "id": "d241ddbb",
   "metadata": {},
   "outputs": [
    {
     "name": "stdout",
     "output_type": "stream",
     "text": [
      "пример выходного тензора tensor([[-5.3229, -0.5172, -7.1119, -2.8825, -6.7058, -4.0177, -0.2792, -4.6307,\n",
      "          0.1380, -1.2403, -6.3656, 11.5923]])\n",
      "какой индекс получили из тензора tensor([11])\n",
      "сопоставление индекса и имени класса Дефект наружнегл кольца, лёгкий\n"
     ]
    }
   ],
   "source": [
    "print(f'пример выходного тензора {tensor}')\n",
    "print(f'какой индекс получили из тензора {index}')\n",
    "print(f'сопоставление индекса и имени класса {int_to_class[index.numpy()[0]]}')"
   ]
  },
  {
   "cell_type": "code",
   "execution_count": 194,
   "id": "76b6a344",
   "metadata": {},
   "outputs": [
    {
     "name": "stderr",
     "output_type": "stream",
     "text": [
      "C:\\Users\\Ysiberia\\AppData\\Local\\Temp\\ipykernel_14404\\1430241965.py:3: UserWarning: Implicit dimension choice for softmax has been deprecated. Change the call to include dim=X as an argument.\n",
      "  probabilities = sm(tensor)\n"
     ]
    },
    {
     "data": {
      "text/plain": [
       "tensor([[4.5064e-08, 5.5071e-06, 7.5314e-09, 5.1724e-07, 1.1304e-08, 1.6622e-07,\n",
       "         6.9871e-06, 9.0044e-08, 1.0603e-05, 2.6723e-06, 1.5885e-08, 9.9997e-01]])"
      ]
     },
     "execution_count": 194,
     "metadata": {},
     "output_type": "execute_result"
    }
   ],
   "source": [
    "# пример как переделать тензор в вероятности классов\n",
    "sm = torch.nn.Softmax()\n",
    "probabilities = sm(tensor)\n",
    "probabilities"
   ]
  },
  {
   "cell_type": "code",
   "execution_count": null,
   "id": "e32af1db",
   "metadata": {},
   "outputs": [],
   "source": [
    "\n"
   ]
  },
  {
   "cell_type": "code",
   "execution_count": null,
   "id": "ccaee056",
   "metadata": {},
   "outputs": [],
   "source": [
    "Test1\tИсправный, заводское состояние, новый\n",
    "Test2\tДисбаланс 15 гр\n",
    "Test3\tДисбаланс 30 гр\n",
    "Test4\tПромыт полностью от смазки. Отсутсивие смазки\n",
    "Test5\tНедостаток смазки\n",
    "Test6\tГрязь в смазке\n",
    "Test7\tСильно загрязнённая смазка\n",
    "Test8\tНовый подшипник\n",
    "Test9\tДефект наружнегл кольца, лёгкий\n",
    "Test10\tДефект наружнегл кольца, средний\n",
    "Test11\tДефект наружнего кольца, крупный\n",
    "Test12\tДефект внутреннего кольца, средний\n",
    "Test13\tДефект внутреннего кольца, крупный"
   ]
  },
  {
   "cell_type": "code",
   "execution_count": null,
   "id": "17d0bad4",
   "metadata": {},
   "outputs": [],
   "source": []
  },
  {
   "cell_type": "code",
   "execution_count": null,
   "id": "ffe5ca04",
   "metadata": {},
   "outputs": [],
   "source": []
  },
  {
   "cell_type": "code",
   "execution_count": null,
   "id": "f4ead70c",
   "metadata": {},
   "outputs": [],
   "source": []
  },
  {
   "cell_type": "code",
   "execution_count": null,
   "id": "68c0ef91",
   "metadata": {},
   "outputs": [],
   "source": []
  },
  {
   "cell_type": "code",
   "execution_count": null,
   "id": "b221704a",
   "metadata": {},
   "outputs": [],
   "source": []
  }
 ],
 "metadata": {
  "kernelspec": {
   "display_name": "Python 3 (ipykernel)",
   "language": "python",
   "name": "python3"
  },
  "language_info": {
   "codemirror_mode": {
    "name": "ipython",
    "version": 3
   },
   "file_extension": ".py",
   "mimetype": "text/x-python",
   "name": "python",
   "nbconvert_exporter": "python",
   "pygments_lexer": "ipython3",
   "version": "3.9.5"
  }
 },
 "nbformat": 4,
 "nbformat_minor": 5
}
