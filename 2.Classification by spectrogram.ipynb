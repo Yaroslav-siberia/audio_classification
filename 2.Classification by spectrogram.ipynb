{
 "cells": [
  {
   "cell_type": "markdown",
   "id": "63c27d89",
   "metadata": {},
   "source": [
    "# Import"
   ]
  },
  {
   "cell_type": "code",
   "execution_count": 1,
   "id": "a55ff587",
   "metadata": {},
   "outputs": [
    {
     "name": "stderr",
     "output_type": "stream",
     "text": [
      "c:\\users\\ysiberia\\documents\\github\\audiio_classification\\venv\\lib\\site-packages\\pydub\\utils.py:170: RuntimeWarning: Couldn't find ffmpeg or avconv - defaulting to ffmpeg, but may not work\n",
      "  warn(\"Couldn't find ffmpeg or avconv - defaulting to ffmpeg, but may not work\", RuntimeWarning)\n"
     ]
    }
   ],
   "source": [
    "# system packages\n",
    "import os\n",
    "import cv2\n",
    "import time\n",
    "import numpy as np\n",
    "import shutil\n",
    "\n",
    "import librosa.display\n",
    "from tqdm import tqdm\n",
    "import gc\n",
    "import pandas as pd\n",
    "import copy\n",
    "import math\n",
    "from sklearn.metrics import confusion_matrix, classification_report\n",
    "from pydub import AudioSegment\n",
    "\n",
    "# torch packages\n",
    "import torch\n",
    "import torch.nn as nn\n",
    "import torch.nn.functional as F\n",
    "from torch.utils.data import DataLoader, Dataset,RandomSampler\n",
    "import torchvision.transforms as T\n",
    "import torchvision.models as models\n",
    "from torchvision.utils import make_grid\n",
    "from torchvision.datasets import ImageFolder\n",
    "\n",
    "\n",
    "import seaborn as sns\n",
    "import matplotlib.pyplot as plt\n",
    "from matplotlib.backends.backend_agg import FigureCanvasAgg as FigureCanvas"
   ]
  },
  {
   "cell_type": "markdown",
   "id": "dabca1b9",
   "metadata": {},
   "source": [
    "# Creating dataset"
   ]
  },
  {
   "cell_type": "markdown",
   "id": "ed19df1d",
   "metadata": {},
   "source": [
    "В данном разделе написан код, который создает датасет из спектограмм"
   ]
  },
  {
   "cell_type": "code",
   "execution_count": 2,
   "id": "802038eb",
   "metadata": {},
   "outputs": [],
   "source": [
    "def create_img_data(audio_folder:str,img_folder:str,window_size=1024,hop_length=512):\n",
    "    '''\n",
    "    данная функция генерирует по датасету аудиофайлов датасет спектрограмм(изображений)\n",
    "    сопоставление по названиям будет 1 к 1 включая иерархию вложенности\n",
    "    ==Input==\n",
    "    audio_folder - путь к директории с датасетом аудиофайлов\n",
    "    img_folder - путь к директории куда складывать изображения\n",
    "    window_size - по сути размер скользящего окна\n",
    "    '''\n",
    "    if not os.path.exists(img_folder):\n",
    "        os.makedirs(img_folder)\n",
    "    # цикл по подпапкам и файлам\n",
    "    for subdir, dirs, files in os.walk(audio_folder):\n",
    "        print(subdir)\n",
    "        for file in tqdm(files):\n",
    "            filepath = subdir + os.sep + file\n",
    "            if filepath.endswith(\".wav\"):\n",
    "                fig = plt.Figure(frameon=False)\n",
    "                y, sr = librosa.load(filepath)\n",
    "                window = np.hanning(window_size) # построение скользящего окна для сглаживания\n",
    "                stft  = librosa.core.spectrum.stft(y,   # разложение в Фурье\n",
    "                                                   n_fft=window_size, \n",
    "                                                   hop_length=hop_length, \n",
    "                                                   window=window)\n",
    "                out = 2 * np.abs(stft) / np.sum(window)\n",
    "                canvas = FigureCanvas(fig)\n",
    "                ax = fig.add_subplot(111)\n",
    "                ax.axis('off')\n",
    "                p = librosa.display.specshow(librosa.amplitude_to_db(out,  # построение спектрограммы\n",
    "                                                                     ref=np.max),\n",
    "                                             ax=ax)\n",
    "                path=os.path.join(img_folder,subdir.split('/')[-1])\n",
    "                if not os.path.exists(path):\n",
    "                    os.makedirs(path)\n",
    "                f_name=os.path.join(path,file.split('.')[0]+'.png')   \n",
    "                fig.savefig(f_name\n",
    "                            ,pad_inches = 0)\n",
    "                # закрытие и удаление объектов \"график\" чтобы не переполнялась память\n",
    "                fig.clear()\n",
    "                plt.close(fig)\n",
    "            gc.collect()\n",
    "        gc.collect()"
   ]
  },
  {
   "cell_type": "markdown",
   "id": "41a24a27",
   "metadata": {},
   "source": [
    "Генерируем датасет из спектрограмм для наших аудиофайлов. Необходимо обратить внимание на пути."
   ]
  },
  {
   "cell_type": "code",
   "execution_count": 3,
   "id": "0497bbae",
   "metadata": {
    "scrolled": true
   },
   "outputs": [
    {
     "name": "stdout",
     "output_type": "stream",
     "text": [
      "./noise_cut_data\n"
     ]
    },
    {
     "name": "stderr",
     "output_type": "stream",
     "text": [
      "0it [00:00, ?it/s]\n"
     ]
    },
    {
     "name": "stdout",
     "output_type": "stream",
     "text": [
      "./noise_cut_data\\Test11Noise\n"
     ]
    },
    {
     "name": "stderr",
     "output_type": "stream",
     "text": [
      "100%|███████████████████████████████████████████████████████████████████████████| 400/400 [09:32<00:00,  1.43s/it]\n"
     ]
    },
    {
     "name": "stdout",
     "output_type": "stream",
     "text": [
      "./noise_cut_data\\Test13Noise\n"
     ]
    },
    {
     "name": "stderr",
     "output_type": "stream",
     "text": [
      "100%|███████████████████████████████████████████████████████████████████████████| 400/400 [09:29<00:00,  1.42s/it]\n"
     ]
    },
    {
     "name": "stdout",
     "output_type": "stream",
     "text": [
      "./noise_cut_data\\Test1Noise\n"
     ]
    },
    {
     "name": "stderr",
     "output_type": "stream",
     "text": [
      "100%|███████████████████████████████████████████████████████████████████████████| 400/400 [09:35<00:00,  1.44s/it]\n"
     ]
    },
    {
     "name": "stdout",
     "output_type": "stream",
     "text": [
      "./noise_cut_data\\Test3Noise\n"
     ]
    },
    {
     "name": "stderr",
     "output_type": "stream",
     "text": [
      "100%|███████████████████████████████████████████████████████████████████████████| 400/400 [09:31<00:00,  1.43s/it]\n"
     ]
    },
    {
     "name": "stdout",
     "output_type": "stream",
     "text": [
      "./noise_cut_data\\Test4Noise\n"
     ]
    },
    {
     "name": "stderr",
     "output_type": "stream",
     "text": [
      "100%|███████████████████████████████████████████████████████████████████████████| 400/400 [09:31<00:00,  1.43s/it]\n"
     ]
    },
    {
     "name": "stdout",
     "output_type": "stream",
     "text": [
      "./noise_cut_data\\Test5Noise\n"
     ]
    },
    {
     "name": "stderr",
     "output_type": "stream",
     "text": [
      "100%|███████████████████████████████████████████████████████████████████████████| 400/400 [09:31<00:00,  1.43s/it]\n"
     ]
    },
    {
     "name": "stdout",
     "output_type": "stream",
     "text": [
      "./noise_cut_data\\Test6Noise\n"
     ]
    },
    {
     "name": "stderr",
     "output_type": "stream",
     "text": [
      "100%|███████████████████████████████████████████████████████████████████████████| 400/400 [09:02<00:00,  1.36s/it]\n"
     ]
    },
    {
     "name": "stdout",
     "output_type": "stream",
     "text": [
      "./noise_cut_data\\Test7Noise\n"
     ]
    },
    {
     "name": "stderr",
     "output_type": "stream",
     "text": [
      "100%|███████████████████████████████████████████████████████████████████████████| 400/400 [08:30<00:00,  1.28s/it]"
     ]
    },
    {
     "name": "stdout",
     "output_type": "stream",
     "text": [
      "CPU times: total: 1h 14min 23s\n",
      "Wall time: 1h 14min 45s\n"
     ]
    },
    {
     "name": "stderr",
     "output_type": "stream",
     "text": [
      "\n"
     ]
    }
   ],
   "source": [
    "%%time\n",
    "create_img_data(r'./noise_cut_data','./spec_10_noise')"
   ]
  },
  {
   "cell_type": "markdown",
   "id": "62b271ee",
   "metadata": {},
   "source": [
    "# Spliting Dataset to Train and Val"
   ]
  },
  {
   "cell_type": "markdown",
   "id": "648e82e1",
   "metadata": {},
   "source": [
    "Разделим датасет на тренировочный и валидационный"
   ]
  },
  {
   "cell_type": "code",
   "execution_count": 4,
   "id": "267dac28",
   "metadata": {},
   "outputs": [],
   "source": [
    "def split_train_test(img_dir:str, dataset_dir:str,test_ratio = 0.20 ):\n",
    "    '''\n",
    "    Разделит датасет с изображениями на 2 группы, для тренировки и валидации.\n",
    "    по сути изображения скопируются в новый датасет но там будет уже правильная структура\n",
    "    ==Input==\n",
    "    img_dir - путь к директории с нашими спектрограммами\n",
    "    dataset_dir - директория где у нас будет все разбито на train и val\n",
    "    test_ratio - доля изображений которыe уйдут на тестирование. обычно это 15%-20%.\n",
    "    '''\n",
    "    classes = os.listdir(img_dir)\n",
    "    for i in classes:\n",
    "        if not os.path.exists(dataset_dir):\n",
    "            os.makedirs(dataset_dir)\n",
    "        if not os.path.exists(dataset_dir +'/train/' + i):\n",
    "            os.makedirs(dataset_dir +'/train/' + i)\n",
    "        if not os.path.exists(dataset_dir +'/val/' + i):\n",
    "            os.makedirs(dataset_dir +'/val/' + i)\n",
    "        source = img_dir + '/' + i\n",
    "        allFileNames = os.listdir(source)\n",
    "        np.random.shuffle(allFileNames)\n",
    "        \n",
    "        train_FileNames, test_FileNames = np.split(np.array(allFileNames),\n",
    "                                                              [int(len(allFileNames)* (1 - test_ratio))])\n",
    "        train_FileNames = [source+'/'+ name for name in train_FileNames.tolist()]\n",
    "        test_FileNames = [source+'/' + name for name in test_FileNames.tolist()]\n",
    "        for name in train_FileNames:\n",
    "            shutil.copy(name, dataset_dir +'/train/' + i)\n",
    "        for name in test_FileNames:\n",
    "            shutil.copy(name, dataset_dir +'/val/' + i)"
   ]
  },
  {
   "cell_type": "markdown",
   "id": "0b79c156",
   "metadata": {},
   "source": [
    "Разделим выборки на 2 части.  \n",
    "по сути должны получить *img_dataset/train* и *img_dataset/val* а внутри кажого из них директорию с нашим примерами для нашего класса"
   ]
  },
  {
   "cell_type": "code",
   "execution_count": 5,
   "id": "fae698c1",
   "metadata": {},
   "outputs": [
    {
     "name": "stdout",
     "output_type": "stream",
     "text": [
      "CPU times: total: 2.03 s\n",
      "Wall time: 4.82 s\n"
     ]
    }
   ],
   "source": [
    "%%time\n",
    "split_train_test('./spec_10_noise/noise_cut_data','./img_dataset_10')"
   ]
  },
  {
   "cell_type": "markdown",
   "id": "277dbb5e",
   "metadata": {},
   "source": [
    "# Creating classificator"
   ]
  },
  {
   "cell_type": "code",
   "execution_count": 6,
   "id": "ec60c878",
   "metadata": {},
   "outputs": [],
   "source": [
    "# переменные с директориями\n",
    "DIR_TRAIN = \"./img_dataset_10/train\"\n",
    "DIR_VALID = \"./img_dataset_10/val\""
   ]
  },
  {
   "cell_type": "code",
   "execution_count": 7,
   "id": "d0e7ce5a",
   "metadata": {},
   "outputs": [
    {
     "name": "stdout",
     "output_type": "stream",
     "text": [
      "Total Classes:  8\n"
     ]
    }
   ],
   "source": [
    "classes = os.listdir(DIR_TRAIN)\n",
    "print(\"Total Classes: \",len(classes))"
   ]
  },
  {
   "cell_type": "code",
   "execution_count": 8,
   "id": "a0de1f03",
   "metadata": {},
   "outputs": [
    {
     "data": {
      "text/plain": [
       "['Test11Noise',\n",
       " 'Test13Noise',\n",
       " 'Test1Noise',\n",
       " 'Test3Noise',\n",
       " 'Test4Noise',\n",
       " 'Test5Noise',\n",
       " 'Test6Noise',\n",
       " 'Test7Noise']"
      ]
     },
     "execution_count": 8,
     "metadata": {},
     "output_type": "execute_result"
    }
   ],
   "source": [
    "classes"
   ]
  },
  {
   "cell_type": "code",
   "execution_count": 9,
   "id": "74bf63fb",
   "metadata": {},
   "outputs": [
    {
     "name": "stdout",
     "output_type": "stream",
     "text": [
      "Total train images:  2560\n",
      "Total valid images:  640\n"
     ]
    }
   ],
   "source": [
    "# просто \"осматриваем\" данные\n",
    "train_count = 0\n",
    "valid_count = 0\n",
    "\n",
    "for _class in classes:\n",
    "    train_count += len(os.listdir(DIR_TRAIN +'/'+ _class))\n",
    "    valid_count += len(os.listdir(DIR_VALID +'/'+ _class))\n",
    "print(\"Total train images: \",train_count)\n",
    "print(\"Total valid images: \",valid_count)"
   ]
  },
  {
   "cell_type": "code",
   "execution_count": 10,
   "id": "35f536de",
   "metadata": {},
   "outputs": [],
   "source": [
    "# Создаем списки со всеми изображениями для тренировки и для валидации\n",
    "train_imgs = []\n",
    "valid_imgs = []\n",
    "for _class in classes:\n",
    "    \n",
    "    for img in os.listdir(DIR_TRAIN +'/'+ _class):\n",
    "        train_imgs.append(DIR_TRAIN +'/'+ _class + \"/\" + img)\n",
    "    \n",
    "    for img in os.listdir(DIR_VALID +'/'+ _class):\n",
    "        valid_imgs.append(DIR_VALID +'/'+ _class + \"/\" + img)\n",
    "        \n",
    "\n",
    "class_to_int = {classes[i] : i for i in range(0, len(classes))}\n",
    "int_to_class = {i: classes[i] for i in  range(0, len(classes))}"
   ]
  },
  {
   "cell_type": "markdown",
   "id": "f4cc176b",
   "metadata": {},
   "source": [
    "В нашем случай нейронная сеть не работает со словами. потому надо для классов сделать сопоставления"
   ]
  },
  {
   "cell_type": "code",
   "execution_count": 11,
   "id": "a90a97de",
   "metadata": {},
   "outputs": [
    {
     "name": "stdout",
     "output_type": "stream",
     "text": [
      "{'Test11Noise': 0, 'Test13Noise': 1, 'Test1Noise': 2, 'Test3Noise': 3, 'Test4Noise': 4, 'Test5Noise': 5, 'Test6Noise': 6, 'Test7Noise': 7}\n",
      "{0: 'Test11Noise', 1: 'Test13Noise', 2: 'Test1Noise', 3: 'Test3Noise', 4: 'Test4Noise', 5: 'Test5Noise', 6: 'Test6Noise', 7: 'Test7Noise'}\n"
     ]
    }
   ],
   "source": [
    "print(class_to_int)\n",
    "print(int_to_class)"
   ]
  },
  {
   "cell_type": "code",
   "execution_count": 12,
   "id": "4b31f38c",
   "metadata": {},
   "outputs": [],
   "source": [
    "# Создаем класс датасета. Этот объект будет подавать изображения и метки классов в нейронку пачками\n",
    "# Пачками потому что нельзя все карьтнки разом загрузить в память и там работать.\n",
    "\n",
    "\n",
    "def get_transform():\n",
    "    return T.Compose([T.ToTensor()])\n",
    "\n",
    "class CustomDataset(Dataset):\n",
    "    \n",
    "    def __init__(self, imgs_list, class_to_int, transforms = None):\n",
    "        \n",
    "        super().__init__()\n",
    "        self.imgs_list = imgs_list\n",
    "        self.class_to_int = class_to_int\n",
    "        self.transforms = transforms\n",
    "        \n",
    "        \n",
    "    def __getitem__(self, index):\n",
    "    \n",
    "        image_path = self.imgs_list[index]\n",
    "        \n",
    "        #Reading image\n",
    "        image = cv2.imread(image_path, cv2.IMREAD_COLOR)\n",
    "        image = cv2.cvtColor(image, cv2.COLOR_BGR2RGB).astype(np.float32)\n",
    "        image /= 255.0\n",
    "        \n",
    "        #Retriving class label\n",
    "        label = image_path.split(\"/\")[-2]\n",
    "        label = self.class_to_int[label]\n",
    "        \n",
    "        #Applying transforms on image\n",
    "        if self.transforms:\n",
    "            image = self.transforms(image)\n",
    "        \n",
    "        return image, label\n",
    "        \n",
    "        \n",
    "        \n",
    "    def __len__(self):\n",
    "        return len(self.imgs_list)"
   ]
  },
  {
   "cell_type": "code",
   "execution_count": 13,
   "id": "5a465f49",
   "metadata": {},
   "outputs": [],
   "source": [
    "# создаем экземпляры нашего класса датасет\n",
    "train_dataset = CustomDataset(train_imgs, class_to_int, get_transform())\n",
    "valid_dataset = CustomDataset(valid_imgs, class_to_int, get_transform())"
   ]
  },
  {
   "cell_type": "code",
   "execution_count": 14,
   "id": "e2de24c0",
   "metadata": {},
   "outputs": [],
   "source": [
    "# создаем Сэмплер. по сути он просто будет перемешивать идущие на вход картинки\n",
    "# чтобы при каждом цикле все шло в разном порядке. \n",
    "train_random_sampler = RandomSampler(train_dataset)\n",
    "valid_random_sampler = RandomSampler(valid_dataset)"
   ]
  },
  {
   "cell_type": "code",
   "execution_count": 15,
   "id": "6c9e3c97",
   "metadata": {},
   "outputs": [],
   "source": [
    "# Создаем экземпляры Загрузчика данных\n",
    "\n",
    "train_data_loader = DataLoader(\n",
    "    dataset = train_dataset,\n",
    "    batch_size = 4,\n",
    "    sampler = train_random_sampler,\n",
    "    num_workers = 0,\n",
    ")\n",
    "\n",
    "valid_data_loader = DataLoader(\n",
    "    dataset = valid_dataset,\n",
    "    batch_size = 4,\n",
    "    sampler = valid_random_sampler,\n",
    "    num_workers = 0,\n",
    ")"
   ]
  },
  {
   "cell_type": "code",
   "execution_count": 16,
   "id": "2360aac3",
   "metadata": {},
   "outputs": [
    {
     "data": {
      "image/png": "[encoded data removed]",
      "text/plain": [
       "<Figure size 720x720 with 1 Axes>"
      ]
     },
     "metadata": {},
     "output_type": "display_data"
    }
   ],
   "source": [
    "# Просто показать картинки , ничего особенного\n",
    "for images, labels in train_data_loader:\n",
    "    fig, ax = plt.subplots(figsize = (10, 10))\n",
    "    ax.set_xticks([])\n",
    "    ax.set_yticks([])\n",
    "    ax.imshow(make_grid(images, 4).permute(1,2,0))\n",
    "    break"
   ]
  },
  {
   "cell_type": "markdown",
   "id": "6c9439ee",
   "metadata": {},
   "source": [
    "mobilenet_v3_large best   \n",
    "** Epoch 53 ** - Epoch Time 130  \n",
    "Train Loss = 0.1057  \n",
    "Train Accuracy = 96.42857142857143 %   \n",
    "\n",
    "Val Loss = 0.1132  \n",
    "Val Accuracy = 95.83333333333333 %  \n",
    "  \n",
    "loss descrease 0.1132363324154756< 0.1356593726155725  "
   ]
  },
  {
   "cell_type": "code",
   "execution_count": 5,
   "id": "c4154abf",
   "metadata": {},
   "outputs": [],
   "source": [
    "def return_model(num_classes):\n",
    "    '''\n",
    "    Эта функция возвращает экземпляр модели, построенной под наше количество классов.\n",
    "    Мы берем предобученную сеть, например mobilenet_v3_large и меняем ей \"голову\"\n",
    "    '''\n",
    "    model = models.mobilenet_v3_large(pretrained = True)\n",
    "    \n",
    "    #print(model)\n",
    "    \n",
    "    last_layer_input_features = model.classifier[-1].in_features\n",
    "    \n",
    "    model.classifier[-1] = nn.Linear(last_layer_input_features, num_classes, bias = True)\n",
    "    \n",
    "    #print(model)\n",
    "    \n",
    "    return model"
   ]
  },
  {
   "cell_type": "code",
   "execution_count": 18,
   "id": "2c54f8ed",
   "metadata": {},
   "outputs": [],
   "source": [
    "model=return_model(len(classes)) # создаем нашу модель"
   ]
  },
  {
   "cell_type": "code",
   "execution_count": 19,
   "id": "1fdeed56",
   "metadata": {},
   "outputs": [],
   "source": [
    "device = torch.device('cuda') if torch.cuda.is_available() else torch.device('cpu')\n",
    "torch.cuda.empty_cache()\n",
    "\n",
    "model.to(device)\n",
    "\n",
    "### Нюансы обучения\n",
    "#optimizer = torch.optim.Adam(model.classifier.parameters(), lr = 0.0001)\n",
    "optimizer = torch.optim.Adam(model.classifier.parameters(), lr = 0.0001) # метод оптимизации. ему даем не все параметры \n",
    "  # сети а только \"голову\", которую переделывали. Основное тело, которое выделяет эмбединги(показатели, характеристики, \n",
    "  # признаки как удобно) мы не трогаем. оно обучено уже. материал про трансферлернинг\n",
    "lr_scheduler = torch.optim.lr_scheduler.StepLR(optimizer, step_size = 4, gamma = 0.5)\n",
    "criterion = nn.CrossEntropyLoss() # функция потерь\n",
    "\n",
    "train_loss = []\n",
    "train_accuracy = []\n",
    "\n",
    "val_loss = []\n",
    "val_accuracy = []\n"
   ]
  },
  {
   "cell_type": "code",
   "execution_count": 20,
   "id": "5f4a732b",
   "metadata": {},
   "outputs": [],
   "source": [
    "def calc_accuracy(true,pred):\n",
    "    pred = F.softmax(pred, dim = 1)\n",
    "    true = torch.zeros(pred.shape[0], pred.shape[1]).scatter_(1, true.unsqueeze(1), 1.)\n",
    "    acc = (true.argmax(-1) == pred.argmax(-1)).float().detach().numpy()\n",
    "    acc = float((100 * acc.sum()) / len(acc))\n",
    "    return round(acc, 4)"
   ]
  },
  {
   "cell_type": "code",
   "execution_count": 21,
   "id": "6d903c48",
   "metadata": {},
   "outputs": [],
   "source": [
    "accuracy_stats = {\n",
    "    'train': [],\n",
    "    \"val\": []\n",
    "}\n",
    "loss_stats = {\n",
    "    'train': [],\n",
    "    \"val\": []\n",
    "}"
   ]
  },
  {
   "cell_type": "markdown",
   "id": "75a383ca",
   "metadata": {},
   "source": [
    "Я сделал обучение с механизмом раннего останова. Чтобы не надо было вбивать количество эпох обучения. Нейронка учится до тех пор, пока уменьшается значение функции потерь. Обучение останавливается само как только значение функции потерь начинает расти (не уменьшается на протяжении max_bad_epoch подряд). В процессе обучения функция потерь уменьшается т.к. мы учимся лучше классифицировать, но в определенный момент она может начать расти, хоть и точность модели все равно растет. Это из-за того что модель стала \"заучивать\" наши данные и терять обобщающую способность."
   ]
  },
  {
   "cell_type": "code",
   "execution_count": 22,
   "id": "002f2399",
   "metadata": {
    "scrolled": true
   },
   "outputs": [
    {
     "name": "stdout",
     "output_type": "stream",
     "text": [
      "** Epoch 0 ** - Epoch Time 501\n",
      "Train Loss = 0.6944\n",
      "Train Accuracy = 83.671875 % \n",
      "\n",
      "Val Loss = 0.2853\n",
      "Val Accuracy = 92.8125 % \n",
      "\n",
      "loss descrease 0.28531256659771315< inf \n",
      "\n",
      "** Epoch 1 ** - Epoch Time 534\n",
      "Train Loss = 0.1981\n",
      "Train Accuracy = 95.3125 % \n",
      "\n",
      "Val Loss = 0.2104\n",
      "Val Accuracy = 93.4375 % \n",
      "\n",
      "loss descrease 0.21037166988826356< 0.28531256659771315 \n",
      "\n",
      "** Epoch 2 ** - Epoch Time 513\n",
      "Train Loss = 0.1415\n",
      "Train Accuracy = 96.015625 % \n",
      "\n",
      "Val Loss = 0.1357\n",
      "Val Accuracy = 96.40625 % \n",
      "\n",
      "loss descrease 0.13567196329677245< 0.21037166988826356 \n",
      "\n",
      "** Epoch 3 ** - Epoch Time 511\n",
      "Train Loss = 0.1301\n",
      "Train Accuracy = 96.2890625 % \n",
      "\n",
      "Val Loss = 0.1369\n",
      "Val Accuracy = 95.78125 % \n",
      "\n",
      "1 epochs without increasing \n",
      "\n",
      "** Epoch 4 ** - Epoch Time 504\n",
      "Train Loss = 0.1129\n",
      "Train Accuracy = 96.5625 % \n",
      "\n",
      "Val Loss = 0.0825\n",
      "Val Accuracy = 97.8125 % \n",
      "\n",
      "loss descrease 0.08250578505230806< 0.13567196329677245 \n",
      "\n",
      "** Epoch 5 ** - Epoch Time 574\n",
      "Train Loss = 0.094\n",
      "Train Accuracy = 96.9921875 % \n",
      "\n",
      "Val Loss = 0.1408\n",
      "Val Accuracy = 95.46875 % \n",
      "\n",
      "1 epochs without increasing \n",
      "\n",
      "** Epoch 6 ** - Epoch Time 514\n",
      "Train Loss = 0.083\n",
      "Train Accuracy = 97.5 % \n",
      "\n",
      "Val Loss = 0.1063\n",
      "Val Accuracy = 95.78125 % \n",
      "\n",
      "2 epochs without increasing \n",
      "\n",
      "** Epoch 7 ** - Epoch Time 557\n",
      "Train Loss = 0.0774\n",
      "Train Accuracy = 97.65625 % \n",
      "\n",
      "Val Loss = 0.0513\n",
      "Val Accuracy = 98.75 % \n",
      "\n",
      "loss descrease 0.051308832367340074< 0.08250578505230806 \n",
      "\n",
      "** Epoch 8 ** - Epoch Time 520\n",
      "Train Loss = 0.0626\n",
      "Train Accuracy = 98.046875 % \n",
      "\n",
      "Val Loss = 0.0794\n",
      "Val Accuracy = 97.03125 % \n",
      "\n",
      "1 epochs without increasing \n",
      "\n",
      "** Epoch 9 ** - Epoch Time 521\n",
      "Train Loss = 0.0912\n",
      "Train Accuracy = 97.109375 % \n",
      "\n",
      "Val Loss = 0.1102\n",
      "Val Accuracy = 96.40625 % \n",
      "\n",
      "2 epochs without increasing \n",
      "\n",
      "** Epoch 10 ** - Epoch Time 518\n",
      "Train Loss = 0.0491\n",
      "Train Accuracy = 98.7109375 % \n",
      "\n",
      "Val Loss = 0.0959\n",
      "Val Accuracy = 96.5625 % \n",
      "\n",
      "3 epochs without increasing \n",
      "\n",
      "** Epoch 11 ** - Epoch Time 518\n",
      "Train Loss = 0.0797\n",
      "Train Accuracy = 97.5 % \n",
      "\n",
      "Val Loss = 0.0464\n",
      "Val Accuracy = 98.59375 % \n",
      "\n",
      "loss descrease 0.04635376085401503< 0.051308832367340074 \n",
      "\n",
      "** Epoch 12 ** - Epoch Time 688\n",
      "Train Loss = 0.0505\n",
      "Train Accuracy = 98.203125 % \n",
      "\n",
      "Val Loss = 0.0305\n",
      "Val Accuracy = 99.0625 % \n",
      "\n",
      "loss descrease 0.030491411267314562< 0.04635376085401503 \n",
      "\n",
      "** Epoch 13 ** - Epoch Time 510\n",
      "Train Loss = 0.0454\n",
      "Train Accuracy = 98.7109375 % \n",
      "\n",
      "Val Loss = 0.0247\n",
      "Val Accuracy = 99.53125 % \n",
      "\n",
      "loss descrease 0.024681237572258395< 0.030491411267314562 \n",
      "\n",
      "** Epoch 14 ** - Epoch Time 672\n",
      "Train Loss = 0.0515\n",
      "Train Accuracy = 98.515625 % \n",
      "\n",
      "Val Loss = 0.0299\n",
      "Val Accuracy = 99.21875 % \n",
      "\n",
      "1 epochs without increasing \n",
      "\n",
      "** Epoch 15 ** - Epoch Time 508\n",
      "Train Loss = 0.0527\n",
      "Train Accuracy = 98.203125 % \n",
      "\n",
      "Val Loss = 0.0298\n",
      "Val Accuracy = 99.375 % \n",
      "\n",
      "2 epochs without increasing \n",
      "\n",
      "** Epoch 16 ** - Epoch Time 528\n",
      "Train Loss = 0.0383\n",
      "Train Accuracy = 98.5546875 % \n",
      "\n",
      "Val Loss = 0.0663\n",
      "Val Accuracy = 98.90625 % \n",
      "\n",
      "3 epochs without increasing \n",
      "\n",
      "** Epoch 17 ** - Epoch Time 559\n",
      "Train Loss = 0.0663\n",
      "Train Accuracy = 98.0078125 % \n",
      "\n",
      "Val Loss = 0.0445\n",
      "Val Accuracy = 98.28125 % \n",
      "\n",
      "4 epochs without increasing \n",
      "\n",
      "** Epoch 18 ** - Epoch Time 566\n",
      "Train Loss = 0.0499\n",
      "Train Accuracy = 98.3203125 % \n",
      "\n",
      "Val Loss = 0.0295\n",
      "Val Accuracy = 99.21875 % \n",
      "\n",
      "5 epochs without increasing \n",
      "\n",
      "** Epoch 19 ** - Epoch Time 565\n",
      "Train Loss = 0.0677\n",
      "Train Accuracy = 98.0859375 % \n",
      "\n",
      "Val Loss = 0.0865\n",
      "Val Accuracy = 97.8125 % \n",
      "\n",
      "6 epochs without increasing \n",
      "\n",
      "** Epoch 20 ** - Epoch Time 562\n",
      "Train Loss = 0.0497\n",
      "Train Accuracy = 98.4375 % \n",
      "\n",
      "Val Loss = 0.0343\n",
      "Val Accuracy = 98.90625 % \n",
      "\n",
      "7 epochs without increasing \n",
      "\n",
      "** Epoch 21 ** - Epoch Time 542\n",
      "Train Loss = 0.0635\n",
      "Train Accuracy = 97.96875 % \n",
      "\n",
      "Val Loss = 0.0267\n",
      "Val Accuracy = 99.0625 % \n",
      "\n",
      "8 epochs without increasing \n",
      "\n",
      "enough \n",
      "\n",
      "CPU times: total: 1d 2h 16min 2s\n",
      "Wall time: 3h 19min 55s\n"
     ]
    }
   ],
   "source": [
    "%%time\n",
    "### Training Code\n",
    "best_model_wts = copy.deepcopy(model.state_dict()) # это чтобы скопировать объект целиком а не указатель\n",
    "PATH = './best_spectrogram_8_classes_noise.pt' # сохраняем лучший результат. если будете запускать с разными параметрами или \n",
    "                                    # на разных данных то меняйте название\n",
    "best_loss = math.inf\n",
    "train = True\n",
    "earley_stoping =8 # ранний останов. количество эпох, идущих подряд без улучшения результата, \n",
    "                    # достигнув которое мы останавливаемся но лучше 10\n",
    "earley_stoping_counter = 0 # счетчик\n",
    "epoch=0 # счетчик\n",
    "while train:\n",
    "    start = time.time()\n",
    "    \n",
    "    #Epoch Loss & Accuracy\n",
    "    train_epoch_loss = []\n",
    "    train_epoch_accuracy = []\n",
    "    \n",
    "    #Val Loss & Accuracy\n",
    "    val_epoch_loss = []\n",
    "    val_epoch_accuracy = []\n",
    "    \n",
    "    # Training\n",
    "    for images, labels in train_data_loader:\n",
    "        \n",
    "        images = images.to(device)\n",
    "        labels = labels.to(device)\n",
    "        \n",
    "        #Reset Grads\n",
    "        optimizer.zero_grad()\n",
    "        \n",
    "        #Forward ->\n",
    "        preds = model(images)\n",
    "        #Calculate Accuracy\n",
    "        acc = calc_accuracy(labels.cpu(), preds.cpu())\n",
    "        \n",
    "        #Calculate Loss & Backward, Update Weights (Step) <- backward\n",
    "        loss = criterion(preds, labels)\n",
    "        loss.backward()\n",
    "        optimizer.step()\n",
    "        \n",
    "        #Append loss & acc\n",
    "        loss_value = loss.item()\n",
    "        train_epoch_loss.append(loss_value)\n",
    "        train_epoch_accuracy.append(acc)\n",
    "    \n",
    "    #Validation\n",
    "    with torch.no_grad():\n",
    "        for images, labels in valid_data_loader:\n",
    "\n",
    "            images = images.to(device)\n",
    "            labels = labels.to(device)\n",
    "\n",
    "            #Forward ->\n",
    "            preds = model(images)\n",
    "\n",
    "            #Calculate Accuracy\n",
    "            acc = calc_accuracy(labels.cpu(), preds.cpu())\n",
    "\n",
    "            #Calculate Loss\n",
    "            loss = criterion(preds, labels)\n",
    "\n",
    "            #Append loss & acc\n",
    "            loss_value = loss.item()\n",
    "            val_epoch_loss.append(loss_value)\n",
    "            val_epoch_accuracy.append(acc)\n",
    "\n",
    "    \n",
    "    train_epoch_loss = np.mean(train_epoch_loss)\n",
    "    train_epoch_accuracy = np.mean(train_epoch_accuracy)\n",
    "    val_epoch_loss = np.mean(val_epoch_loss)\n",
    "    val_epoch_accuracy = np.mean(val_epoch_accuracy)\n",
    "    \n",
    "    loss_stats['train'].append(train_epoch_loss)\n",
    "    accuracy_stats['train'].append(train_epoch_accuracy)\n",
    "    loss_stats['val'].append(val_epoch_loss)\n",
    "    accuracy_stats['val'].append(val_epoch_accuracy)\n",
    "    \n",
    "    end = time.time()\n",
    "    \n",
    "    #Print Epoch Statistics\n",
    "    print(\"** Epoch {} ** - Epoch Time {}\".format(epoch, int(end-start)))\n",
    "    print(\"Train Loss = {}\".format(round(train_epoch_loss, 4)))\n",
    "    print(\"Train Accuracy = {} % \\n\".format(train_epoch_accuracy))\n",
    "    print(\"Val Loss = {}\".format(round(val_epoch_loss, 4)))\n",
    "    print(\"Val Accuracy = {} % \\n\".format(val_epoch_accuracy))\n",
    "    epoch+=1\n",
    "    \n",
    "    # если результат на валидации улучшился то сохраняем текущие веса\n",
    "    if val_epoch_loss< best_loss:\n",
    "        print(f'loss descrease {val_epoch_loss}< {best_loss} \\n')\n",
    "        best_loss = val_epoch_loss\n",
    "        best_model_wts = copy.deepcopy(model.state_dict())\n",
    "        torch.save(model.state_dict(), PATH)\n",
    "        earley_stoping_counter = 0\n",
    "    # иначе - обновляем счетчик\n",
    "    else:\n",
    "        earley_stoping_counter+=1\n",
    "        print(f'{earley_stoping_counter} epochs without increasing \\n')\n",
    "    # счетчик неудачных попыток обучения достиг контрольного значения. останавливаемся\n",
    "    if earley_stoping_counter >= earley_stoping:\n",
    "        print(f'enough \\n')\n",
    "        train = False\n",
    "        "
   ]
  },
  {
   "cell_type": "markdown",
   "id": "51200c90",
   "metadata": {},
   "source": [
    "only noise\n",
    "\n",
    "loss descrease 0.29546085921349< 0.29704812765819955 \n",
    "\n",
    "** Epoch 39 ** - Epoch Time 431\n",
    "Train Loss = 0.2725\n",
    "Train Accuracy = 90.0 % \n",
    "\n",
    "Val Loss = 0.3421\n",
    "Val Accuracy = 86.83333333333333 % "
   ]
  },
  {
   "cell_type": "code",
   "execution_count": 23,
   "id": "71e2fb4a",
   "metadata": {},
   "outputs": [
    {
     "data": {
      "text/plain": [
       "Text(0.5, 1.0, 'Train-Val Loss/Epoch')"
      ]
     },
     "execution_count": 23,
     "metadata": {},
     "output_type": "execute_result"
    },
    {
     "data": {
      "image/png": "[encoded data removed]",
      "text/plain": [
       "<Figure size 1440x504 with 2 Axes>"
      ]
     },
     "metadata": {
      "needs_background": "light"
     },
     "output_type": "display_data"
    }
   ],
   "source": [
    "# строим графики как менялась точность и функция потерь в процессе обучения\n",
    "train_val_acc_df = pd.DataFrame.from_dict(accuracy_stats).reset_index().melt(id_vars=\n",
    "                                        ['index']).rename(columns={\"index\":\"epochs\"})\n",
    "\n",
    "train_val_loss_df = pd.DataFrame.from_dict(loss_stats).reset_index().melt(id_vars=\n",
    "                                        ['index']).rename(columns={\"index\":\"epochs\"})# Plot the dataframes\n",
    "\n",
    "fig, axes = plt.subplots(nrows=1, ncols=2, figsize=(20,7))\n",
    "\n",
    "sns.lineplot(data=train_val_acc_df, x = \"epochs\", y=\"value\", hue=\"variable\",\n",
    "             ax=axes[0]).set_title('Train-Val Accuracy/Epoch')\n",
    "sns.lineplot(data=train_val_loss_df, x = \"epochs\", y=\"value\", hue=\"variable\",\n",
    "             ax=axes[1]).set_title('Train-Val Loss/Epoch')"
   ]
  },
  {
   "cell_type": "code",
   "execution_count": 24,
   "id": "b058f165",
   "metadata": {
    "scrolled": true
   },
   "outputs": [
    {
     "data": {
      "text/plain": [
       "Text(0.5, 1.0, 'Train-Val Loss/Epoch')"
      ]
     },
     "execution_count": 24,
     "metadata": {},
     "output_type": "execute_result"
    }
   ],
   "source": [
    "# Строим графики значений точности и функции потерь в зависимости от количества эпох.\n",
    "sns.lineplot(data=train_val_acc_df, x = \"epochs\", y=\"value\", hue=\"variable\",\n",
    "             ax=axes[0]).set_title('Train-Val Accuracy/Epoch')\n",
    "sns.lineplot(data=train_val_loss_df, x = \"epochs\", y=\"value\", hue=\"variable\",\n",
    "             ax=axes[1]).set_title('Train-Val Loss/Epoch')"
   ]
  },
  {
   "cell_type": "markdown",
   "id": "0d140d82",
   "metadata": {},
   "source": [
    "# Infer"
   ]
  },
  {
   "cell_type": "markdown",
   "id": "58054767",
   "metadata": {},
   "source": [
    "небольшой набросок кода для ручного тестирования"
   ]
  },
  {
   "cell_type": "code",
   "execution_count": 6,
   "id": "41ca8bb8",
   "metadata": {},
   "outputs": [],
   "source": [
    "test_transforms = T.Compose([T.ToTensor()])\n",
    "device = torch.device('cuda') if torch.cuda.is_available() else torch.device('cpu')\n",
    "torch.cuda.empty_cache()\n",
    "\n",
    "\n",
    "def infer(model,wav_file,window_size=1024, transforms= None):\n",
    "    '''\n",
    "    \n",
    "    '''\n",
    "    with torch.no_grad():\n",
    "        # раздел создания спектрограммы для классификации должен быть полностью \n",
    "        # идентичен разделу создания спектрограмм для тренировки. главное параметры n_fft=window_size, hop_length=512\n",
    "        Audio = AudioSegment.from_wav(wav_file) # считываем аудио\n",
    "        sample = Audio[0*1000:5*1000]\n",
    "        sample_name = './temp.wav'\n",
    "        sample.export(sample_name, format=\"wav\")\n",
    "        \n",
    "        \n",
    "        y, sr = librosa.load(sample_name)\n",
    "        window = np.hanning(window_size)\n",
    "        stft  = librosa.core.spectrum.stft(y, n_fft=window_size, hop_length=512, window=window)\n",
    "        out = 2 * np.abs(stft) / np.sum(window)\n",
    "        fig = plt.Figure(frameon=False)\n",
    "        canvas = FigureCanvas(fig)\n",
    "        ax = fig.add_subplot(111)\n",
    "        ax.axis('off')\n",
    "        p = librosa.display.specshow(librosa.amplitude_to_db(out, ref=np.max), ax=ax)\n",
    "\n",
    "        # спктрограмма сохраняется во временный файл\n",
    "        temp = wav_file.split('/')[-1]\n",
    "        temp = './' + temp.split('.')[0]+'.png'\n",
    "\n",
    "        fig.savefig(temp\n",
    "                    ,pad_inches = 0)\n",
    "\n",
    "\n",
    "        # считываем так же как в классе Dataset\n",
    "        image = cv2.imread(temp, cv2.IMREAD_COLOR)\n",
    "        os.remove(temp)\n",
    "        image = cv2.cvtColor(image, cv2.COLOR_BGR2RGB).astype(np.float32)\n",
    "        image /= 255.0\n",
    "\n",
    "\n",
    "        image_tensor = test_transforms(image).float()\n",
    "        image_tensor = image_tensor.unsqueeze_(0)\n",
    "        image_tensor.to(device)\n",
    "\n",
    "        # осуществляем предсказание\n",
    "        output = model(image_tensor)\n",
    "        # Я в качеству выходного слоя использую простой полносвязный слой потому переменная output  \n",
    "        # выглядит следующим образом tensor([[ 1.1148, -5.1110,  0.7156, -3.0015, -6.2952, -7.0076, -4.0860, -2.2178,\n",
    "        #     -3.6325, -2.1464,  4.4616,  0.0611]]). Я считаю что такой подход лучше всего \n",
    "        # потому что не связывает руки\n",
    "        index = torch.argmax(output, dim=1)\n",
    "        # В переменной index лежит индекс самого большого значения в тензоре. для примера выше это будет 10.\n",
    "        # Если нужно то тензор output можно переделать в тензор с вероятностями командами  \n",
    "        # sm = torch.nn.Softmax()\n",
    "        # probabilities = sm(b)\n",
    "        # тогда тензор с вероятностями для примера выше будет выглядеть следующим образом\n",
    "        # tensor([[3.2745e-02, 6.4759e-05, 2.1967e-02, 5.3391e-04, 1.9815e-05, 9.7192e-06,\n",
    "        #     1.8049e-04, 1.1690e-03, 2.8406e-04, 1.2556e-03, 9.3035e-01, 1.1417e-02]],\n",
    "        # и самая большая вероятность будет опять у элемента с индексом 10\n",
    "        return index, output"
   ]
  },
  {
   "cell_type": "code",
   "execution_count": 7,
   "id": "4ae38a7b",
   "metadata": {},
   "outputs": [],
   "source": [
    "model1=return_model(8) # создаем нашу модель"
   ]
  },
  {
   "cell_type": "code",
   "execution_count": 8,
   "id": "a7a5c98e",
   "metadata": {},
   "outputs": [],
   "source": [
    "PATH='./best_spectrogram_8_classes_noise.pt'"
   ]
  },
  {
   "cell_type": "code",
   "execution_count": 9,
   "id": "bcae2077",
   "metadata": {},
   "outputs": [
    {
     "data": {
      "text/plain": [
       "MobileNetV3(\n",
       "  (features): Sequential(\n",
       "    (0): ConvNormActivation(\n",
       "      (0): Conv2d(3, 16, kernel_size=(3, 3), stride=(2, 2), padding=(1, 1), bias=False)\n",
       "      (1): BatchNorm2d(16, eps=0.001, momentum=0.01, affine=True, track_running_stats=True)\n",
       "      (2): Hardswish()\n",
       "    )\n",
       "    (1): InvertedResidual(\n",
       "      (block): Sequential(\n",
       "        (0): ConvNormActivation(\n",
       "          (0): Conv2d(16, 16, kernel_size=(3, 3), stride=(1, 1), padding=(1, 1), groups=16, bias=False)\n",
       "          (1): BatchNorm2d(16, eps=0.001, momentum=0.01, affine=True, track_running_stats=True)\n",
       "          (2): ReLU(inplace=True)\n",
       "        )\n",
       "        (1): ConvNormActivation(\n",
       "          (0): Conv2d(16, 16, kernel_size=(1, 1), stride=(1, 1), bias=False)\n",
       "          (1): BatchNorm2d(16, eps=0.001, momentum=0.01, affine=True, track_running_stats=True)\n",
       "        )\n",
       "      )\n",
       "    )\n",
       "    (2): InvertedResidual(\n",
       "      (block): Sequential(\n",
       "        (0): ConvNormActivation(\n",
       "          (0): Conv2d(16, 64, kernel_size=(1, 1), stride=(1, 1), bias=False)\n",
       "          (1): BatchNorm2d(64, eps=0.001, momentum=0.01, affine=True, track_running_stats=True)\n",
       "          (2): ReLU(inplace=True)\n",
       "        )\n",
       "        (1): ConvNormActivation(\n",
       "          (0): Conv2d(64, 64, kernel_size=(3, 3), stride=(2, 2), padding=(1, 1), groups=64, bias=False)\n",
       "          (1): BatchNorm2d(64, eps=0.001, momentum=0.01, affine=True, track_running_stats=True)\n",
       "          (2): ReLU(inplace=True)\n",
       "        )\n",
       "        (2): ConvNormActivation(\n",
       "          (0): Conv2d(64, 24, kernel_size=(1, 1), stride=(1, 1), bias=False)\n",
       "          (1): BatchNorm2d(24, eps=0.001, momentum=0.01, affine=True, track_running_stats=True)\n",
       "        )\n",
       "      )\n",
       "    )\n",
       "    (3): InvertedResidual(\n",
       "      (block): Sequential(\n",
       "        (0): ConvNormActivation(\n",
       "          (0): Conv2d(24, 72, kernel_size=(1, 1), stride=(1, 1), bias=False)\n",
       "          (1): BatchNorm2d(72, eps=0.001, momentum=0.01, affine=True, track_running_stats=True)\n",
       "          (2): ReLU(inplace=True)\n",
       "        )\n",
       "        (1): ConvNormActivation(\n",
       "          (0): Conv2d(72, 72, kernel_size=(3, 3), stride=(1, 1), padding=(1, 1), groups=72, bias=False)\n",
       "          (1): BatchNorm2d(72, eps=0.001, momentum=0.01, affine=True, track_running_stats=True)\n",
       "          (2): ReLU(inplace=True)\n",
       "        )\n",
       "        (2): ConvNormActivation(\n",
       "          (0): Conv2d(72, 24, kernel_size=(1, 1), stride=(1, 1), bias=False)\n",
       "          (1): BatchNorm2d(24, eps=0.001, momentum=0.01, affine=True, track_running_stats=True)\n",
       "        )\n",
       "      )\n",
       "    )\n",
       "    (4): InvertedResidual(\n",
       "      (block): Sequential(\n",
       "        (0): ConvNormActivation(\n",
       "          (0): Conv2d(24, 72, kernel_size=(1, 1), stride=(1, 1), bias=False)\n",
       "          (1): BatchNorm2d(72, eps=0.001, momentum=0.01, affine=True, track_running_stats=True)\n",
       "          (2): ReLU(inplace=True)\n",
       "        )\n",
       "        (1): ConvNormActivation(\n",
       "          (0): Conv2d(72, 72, kernel_size=(5, 5), stride=(2, 2), padding=(2, 2), groups=72, bias=False)\n",
       "          (1): BatchNorm2d(72, eps=0.001, momentum=0.01, affine=True, track_running_stats=True)\n",
       "          (2): ReLU(inplace=True)\n",
       "        )\n",
       "        (2): SqueezeExcitation(\n",
       "          (avgpool): AdaptiveAvgPool2d(output_size=1)\n",
       "          (fc1): Conv2d(72, 24, kernel_size=(1, 1), stride=(1, 1))\n",
       "          (fc2): Conv2d(24, 72, kernel_size=(1, 1), stride=(1, 1))\n",
       "          (activation): ReLU()\n",
       "          (scale_activation): Hardsigmoid()\n",
       "        )\n",
       "        (3): ConvNormActivation(\n",
       "          (0): Conv2d(72, 40, kernel_size=(1, 1), stride=(1, 1), bias=False)\n",
       "          (1): BatchNorm2d(40, eps=0.001, momentum=0.01, affine=True, track_running_stats=True)\n",
       "        )\n",
       "      )\n",
       "    )\n",
       "    (5): InvertedResidual(\n",
       "      (block): Sequential(\n",
       "        (0): ConvNormActivation(\n",
       "          (0): Conv2d(40, 120, kernel_size=(1, 1), stride=(1, 1), bias=False)\n",
       "          (1): BatchNorm2d(120, eps=0.001, momentum=0.01, affine=True, track_running_stats=True)\n",
       "          (2): ReLU(inplace=True)\n",
       "        )\n",
       "        (1): ConvNormActivation(\n",
       "          (0): Conv2d(120, 120, kernel_size=(5, 5), stride=(1, 1), padding=(2, 2), groups=120, bias=False)\n",
       "          (1): BatchNorm2d(120, eps=0.001, momentum=0.01, affine=True, track_running_stats=True)\n",
       "          (2): ReLU(inplace=True)\n",
       "        )\n",
       "        (2): SqueezeExcitation(\n",
       "          (avgpool): AdaptiveAvgPool2d(output_size=1)\n",
       "          (fc1): Conv2d(120, 32, kernel_size=(1, 1), stride=(1, 1))\n",
       "          (fc2): Conv2d(32, 120, kernel_size=(1, 1), stride=(1, 1))\n",
       "          (activation): ReLU()\n",
       "          (scale_activation): Hardsigmoid()\n",
       "        )\n",
       "        (3): ConvNormActivation(\n",
       "          (0): Conv2d(120, 40, kernel_size=(1, 1), stride=(1, 1), bias=False)\n",
       "          (1): BatchNorm2d(40, eps=0.001, momentum=0.01, affine=True, track_running_stats=True)\n",
       "        )\n",
       "      )\n",
       "    )\n",
       "    (6): InvertedResidual(\n",
       "      (block): Sequential(\n",
       "        (0): ConvNormActivation(\n",
       "          (0): Conv2d(40, 120, kernel_size=(1, 1), stride=(1, 1), bias=False)\n",
       "          (1): BatchNorm2d(120, eps=0.001, momentum=0.01, affine=True, track_running_stats=True)\n",
       "          (2): ReLU(inplace=True)\n",
       "        )\n",
       "        (1): ConvNormActivation(\n",
       "          (0): Conv2d(120, 120, kernel_size=(5, 5), stride=(1, 1), padding=(2, 2), groups=120, bias=False)\n",
       "          (1): BatchNorm2d(120, eps=0.001, momentum=0.01, affine=True, track_running_stats=True)\n",
       "          (2): ReLU(inplace=True)\n",
       "        )\n",
       "        (2): SqueezeExcitation(\n",
       "          (avgpool): AdaptiveAvgPool2d(output_size=1)\n",
       "          (fc1): Conv2d(120, 32, kernel_size=(1, 1), stride=(1, 1))\n",
       "          (fc2): Conv2d(32, 120, kernel_size=(1, 1), stride=(1, 1))\n",
       "          (activation): ReLU()\n",
       "          (scale_activation): Hardsigmoid()\n",
       "        )\n",
       "        (3): ConvNormActivation(\n",
       "          (0): Conv2d(120, 40, kernel_size=(1, 1), stride=(1, 1), bias=False)\n",
       "          (1): BatchNorm2d(40, eps=0.001, momentum=0.01, affine=True, track_running_stats=True)\n",
       "        )\n",
       "      )\n",
       "    )\n",
       "    (7): InvertedResidual(\n",
       "      (block): Sequential(\n",
       "        (0): ConvNormActivation(\n",
       "          (0): Conv2d(40, 240, kernel_size=(1, 1), stride=(1, 1), bias=False)\n",
       "          (1): BatchNorm2d(240, eps=0.001, momentum=0.01, affine=True, track_running_stats=True)\n",
       "          (2): Hardswish()\n",
       "        )\n",
       "        (1): ConvNormActivation(\n",
       "          (0): Conv2d(240, 240, kernel_size=(3, 3), stride=(2, 2), padding=(1, 1), groups=240, bias=False)\n",
       "          (1): BatchNorm2d(240, eps=0.001, momentum=0.01, affine=True, track_running_stats=True)\n",
       "          (2): Hardswish()\n",
       "        )\n",
       "        (2): ConvNormActivation(\n",
       "          (0): Conv2d(240, 80, kernel_size=(1, 1), stride=(1, 1), bias=False)\n",
       "          (1): BatchNorm2d(80, eps=0.001, momentum=0.01, affine=True, track_running_stats=True)\n",
       "        )\n",
       "      )\n",
       "    )\n",
       "    (8): InvertedResidual(\n",
       "      (block): Sequential(\n",
       "        (0): ConvNormActivation(\n",
       "          (0): Conv2d(80, 200, kernel_size=(1, 1), stride=(1, 1), bias=False)\n",
       "          (1): BatchNorm2d(200, eps=0.001, momentum=0.01, affine=True, track_running_stats=True)\n",
       "          (2): Hardswish()\n",
       "        )\n",
       "        (1): ConvNormActivation(\n",
       "          (0): Conv2d(200, 200, kernel_size=(3, 3), stride=(1, 1), padding=(1, 1), groups=200, bias=False)\n",
       "          (1): BatchNorm2d(200, eps=0.001, momentum=0.01, affine=True, track_running_stats=True)\n",
       "          (2): Hardswish()\n",
       "        )\n",
       "        (2): ConvNormActivation(\n",
       "          (0): Conv2d(200, 80, kernel_size=(1, 1), stride=(1, 1), bias=False)\n",
       "          (1): BatchNorm2d(80, eps=0.001, momentum=0.01, affine=True, track_running_stats=True)\n",
       "        )\n",
       "      )\n",
       "    )\n",
       "    (9): InvertedResidual(\n",
       "      (block): Sequential(\n",
       "        (0): ConvNormActivation(\n",
       "          (0): Conv2d(80, 184, kernel_size=(1, 1), stride=(1, 1), bias=False)\n",
       "          (1): BatchNorm2d(184, eps=0.001, momentum=0.01, affine=True, track_running_stats=True)\n",
       "          (2): Hardswish()\n",
       "        )\n",
       "        (1): ConvNormActivation(\n",
       "          (0): Conv2d(184, 184, kernel_size=(3, 3), stride=(1, 1), padding=(1, 1), groups=184, bias=False)\n",
       "          (1): BatchNorm2d(184, eps=0.001, momentum=0.01, affine=True, track_running_stats=True)\n",
       "          (2): Hardswish()\n",
       "        )\n",
       "        (2): ConvNormActivation(\n",
       "          (0): Conv2d(184, 80, kernel_size=(1, 1), stride=(1, 1), bias=False)\n",
       "          (1): BatchNorm2d(80, eps=0.001, momentum=0.01, affine=True, track_running_stats=True)\n",
       "        )\n",
       "      )\n",
       "    )\n",
       "    (10): InvertedResidual(\n",
       "      (block): Sequential(\n",
       "        (0): ConvNormActivation(\n",
       "          (0): Conv2d(80, 184, kernel_size=(1, 1), stride=(1, 1), bias=False)\n",
       "          (1): BatchNorm2d(184, eps=0.001, momentum=0.01, affine=True, track_running_stats=True)\n",
       "          (2): Hardswish()\n",
       "        )\n",
       "        (1): ConvNormActivation(\n",
       "          (0): Conv2d(184, 184, kernel_size=(3, 3), stride=(1, 1), padding=(1, 1), groups=184, bias=False)\n",
       "          (1): BatchNorm2d(184, eps=0.001, momentum=0.01, affine=True, track_running_stats=True)\n",
       "          (2): Hardswish()\n",
       "        )\n",
       "        (2): ConvNormActivation(\n",
       "          (0): Conv2d(184, 80, kernel_size=(1, 1), stride=(1, 1), bias=False)\n",
       "          (1): BatchNorm2d(80, eps=0.001, momentum=0.01, affine=True, track_running_stats=True)\n",
       "        )\n",
       "      )\n",
       "    )\n",
       "    (11): InvertedResidual(\n",
       "      (block): Sequential(\n",
       "        (0): ConvNormActivation(\n",
       "          (0): Conv2d(80, 480, kernel_size=(1, 1), stride=(1, 1), bias=False)\n",
       "          (1): BatchNorm2d(480, eps=0.001, momentum=0.01, affine=True, track_running_stats=True)\n",
       "          (2): Hardswish()\n",
       "        )\n",
       "        (1): ConvNormActivation(\n",
       "          (0): Conv2d(480, 480, kernel_size=(3, 3), stride=(1, 1), padding=(1, 1), groups=480, bias=False)\n",
       "          (1): BatchNorm2d(480, eps=0.001, momentum=0.01, affine=True, track_running_stats=True)\n",
       "          (2): Hardswish()\n",
       "        )\n",
       "        (2): SqueezeExcitation(\n",
       "          (avgpool): AdaptiveAvgPool2d(output_size=1)\n",
       "          (fc1): Conv2d(480, 120, kernel_size=(1, 1), stride=(1, 1))\n",
       "          (fc2): Conv2d(120, 480, kernel_size=(1, 1), stride=(1, 1))\n",
       "          (activation): ReLU()\n",
       "          (scale_activation): Hardsigmoid()\n",
       "        )\n",
       "        (3): ConvNormActivation(\n",
       "          (0): Conv2d(480, 112, kernel_size=(1, 1), stride=(1, 1), bias=False)\n",
       "          (1): BatchNorm2d(112, eps=0.001, momentum=0.01, affine=True, track_running_stats=True)\n",
       "        )\n",
       "      )\n",
       "    )\n",
       "    (12): InvertedResidual(\n",
       "      (block): Sequential(\n",
       "        (0): ConvNormActivation(\n",
       "          (0): Conv2d(112, 672, kernel_size=(1, 1), stride=(1, 1), bias=False)\n",
       "          (1): BatchNorm2d(672, eps=0.001, momentum=0.01, affine=True, track_running_stats=True)\n",
       "          (2): Hardswish()\n",
       "        )\n",
       "        (1): ConvNormActivation(\n",
       "          (0): Conv2d(672, 672, kernel_size=(3, 3), stride=(1, 1), padding=(1, 1), groups=672, bias=False)\n",
       "          (1): BatchNorm2d(672, eps=0.001, momentum=0.01, affine=True, track_running_stats=True)\n",
       "          (2): Hardswish()\n",
       "        )\n",
       "        (2): SqueezeExcitation(\n",
       "          (avgpool): AdaptiveAvgPool2d(output_size=1)\n",
       "          (fc1): Conv2d(672, 168, kernel_size=(1, 1), stride=(1, 1))\n",
       "          (fc2): Conv2d(168, 672, kernel_size=(1, 1), stride=(1, 1))\n",
       "          (activation): ReLU()\n",
       "          (scale_activation): Hardsigmoid()\n",
       "        )\n",
       "        (3): ConvNormActivation(\n",
       "          (0): Conv2d(672, 112, kernel_size=(1, 1), stride=(1, 1), bias=False)\n",
       "          (1): BatchNorm2d(112, eps=0.001, momentum=0.01, affine=True, track_running_stats=True)\n",
       "        )\n",
       "      )\n",
       "    )\n",
       "    (13): InvertedResidual(\n",
       "      (block): Sequential(\n",
       "        (0): ConvNormActivation(\n",
       "          (0): Conv2d(112, 672, kernel_size=(1, 1), stride=(1, 1), bias=False)\n",
       "          (1): BatchNorm2d(672, eps=0.001, momentum=0.01, affine=True, track_running_stats=True)\n",
       "          (2): Hardswish()\n",
       "        )\n",
       "        (1): ConvNormActivation(\n",
       "          (0): Conv2d(672, 672, kernel_size=(5, 5), stride=(2, 2), padding=(2, 2), groups=672, bias=False)\n",
       "          (1): BatchNorm2d(672, eps=0.001, momentum=0.01, affine=True, track_running_stats=True)\n",
       "          (2): Hardswish()\n",
       "        )\n",
       "        (2): SqueezeExcitation(\n",
       "          (avgpool): AdaptiveAvgPool2d(output_size=1)\n",
       "          (fc1): Conv2d(672, 168, kernel_size=(1, 1), stride=(1, 1))\n",
       "          (fc2): Conv2d(168, 672, kernel_size=(1, 1), stride=(1, 1))\n",
       "          (activation): ReLU()\n",
       "          (scale_activation): Hardsigmoid()\n",
       "        )\n",
       "        (3): ConvNormActivation(\n",
       "          (0): Conv2d(672, 160, kernel_size=(1, 1), stride=(1, 1), bias=False)\n",
       "          (1): BatchNorm2d(160, eps=0.001, momentum=0.01, affine=True, track_running_stats=True)\n",
       "        )\n",
       "      )\n",
       "    )\n",
       "    (14): InvertedResidual(\n",
       "      (block): Sequential(\n",
       "        (0): ConvNormActivation(\n",
       "          (0): Conv2d(160, 960, kernel_size=(1, 1), stride=(1, 1), bias=False)\n",
       "          (1): BatchNorm2d(960, eps=0.001, momentum=0.01, affine=True, track_running_stats=True)\n",
       "          (2): Hardswish()\n",
       "        )\n",
       "        (1): ConvNormActivation(\n",
       "          (0): Conv2d(960, 960, kernel_size=(5, 5), stride=(1, 1), padding=(2, 2), groups=960, bias=False)\n",
       "          (1): BatchNorm2d(960, eps=0.001, momentum=0.01, affine=True, track_running_stats=True)\n",
       "          (2): Hardswish()\n",
       "        )\n",
       "        (2): SqueezeExcitation(\n",
       "          (avgpool): AdaptiveAvgPool2d(output_size=1)\n",
       "          (fc1): Conv2d(960, 240, kernel_size=(1, 1), stride=(1, 1))\n",
       "          (fc2): Conv2d(240, 960, kernel_size=(1, 1), stride=(1, 1))\n",
       "          (activation): ReLU()\n",
       "          (scale_activation): Hardsigmoid()\n",
       "        )\n",
       "        (3): ConvNormActivation(\n",
       "          (0): Conv2d(960, 160, kernel_size=(1, 1), stride=(1, 1), bias=False)\n",
       "          (1): BatchNorm2d(160, eps=0.001, momentum=0.01, affine=True, track_running_stats=True)\n",
       "        )\n",
       "      )\n",
       "    )\n",
       "    (15): InvertedResidual(\n",
       "      (block): Sequential(\n",
       "        (0): ConvNormActivation(\n",
       "          (0): Conv2d(160, 960, kernel_size=(1, 1), stride=(1, 1), bias=False)\n",
       "          (1): BatchNorm2d(960, eps=0.001, momentum=0.01, affine=True, track_running_stats=True)\n",
       "          (2): Hardswish()\n",
       "        )\n",
       "        (1): ConvNormActivation(\n",
       "          (0): Conv2d(960, 960, kernel_size=(5, 5), stride=(1, 1), padding=(2, 2), groups=960, bias=False)\n",
       "          (1): BatchNorm2d(960, eps=0.001, momentum=0.01, affine=True, track_running_stats=True)\n",
       "          (2): Hardswish()\n",
       "        )\n",
       "        (2): SqueezeExcitation(\n",
       "          (avgpool): AdaptiveAvgPool2d(output_size=1)\n",
       "          (fc1): Conv2d(960, 240, kernel_size=(1, 1), stride=(1, 1))\n",
       "          (fc2): Conv2d(240, 960, kernel_size=(1, 1), stride=(1, 1))\n",
       "          (activation): ReLU()\n",
       "          (scale_activation): Hardsigmoid()\n",
       "        )\n",
       "        (3): ConvNormActivation(\n",
       "          (0): Conv2d(960, 160, kernel_size=(1, 1), stride=(1, 1), bias=False)\n",
       "          (1): BatchNorm2d(160, eps=0.001, momentum=0.01, affine=True, track_running_stats=True)\n",
       "        )\n",
       "      )\n",
       "    )\n",
       "    (16): ConvNormActivation(\n",
       "      (0): Conv2d(160, 960, kernel_size=(1, 1), stride=(1, 1), bias=False)\n",
       "      (1): BatchNorm2d(960, eps=0.001, momentum=0.01, affine=True, track_running_stats=True)\n",
       "      (2): Hardswish()\n",
       "    )\n",
       "  )\n",
       "  (avgpool): AdaptiveAvgPool2d(output_size=1)\n",
       "  (classifier): Sequential(\n",
       "    (0): Linear(in_features=960, out_features=1280, bias=True)\n",
       "    (1): Hardswish()\n",
       "    (2): Dropout(p=0.2, inplace=True)\n",
       "    (3): Linear(in_features=1280, out_features=8, bias=True)\n",
       "  )\n",
       ")"
      ]
     },
     "execution_count": 9,
     "metadata": {},
     "output_type": "execute_result"
    }
   ],
   "source": [
    "model1.load_state_dict(torch.load(PATH))\n",
    "model1.eval()"
   ]
  },
  {
   "cell_type": "markdown",
   "id": "f06391cd",
   "metadata": {},
   "source": [
    "{'Test11Noise': 0, 'Test13Noise': 1, 'Test1Noise': 2, 'Test3Noise': 3, 'Test4Noise': 4, 'Test5Noise': 5, 'Test6Noise': 6, 'Test7Noise': 7}\n",
    "{0: 'Test11Noise', 1: 'Test13Noise', 2: 'Test1Noise', 3: 'Test3Noise', 4: 'Test4Noise', 5: 'Test5Noise', 6: 'Test6Noise', 7: 'Test7Noise'}"
   ]
  },
  {
   "cell_type": "code",
   "execution_count": 10,
   "id": "e0f5facf",
   "metadata": {},
   "outputs": [
    {
     "data": {
      "text/plain": [
       "{0: 'Test11Noise',\n",
       " 1: 'Test13Noise',\n",
       " 2: 'Test1Noise',\n",
       " 3: 'Test3Noise',\n",
       " 4: 'Test4Noise',\n",
       " 5: 'Test5Noise',\n",
       " 6: 'Test6Noise',\n",
       " 7: 'Test7Noise'}"
      ]
     },
     "execution_count": 10,
     "metadata": {},
     "output_type": "execute_result"
    }
   ],
   "source": [
    "int_to_class={0: 'Test11Noise', 1: 'Test13Noise', 2: 'Test1Noise', 3: 'Test3Noise', 4: 'Test4Noise', 5: 'Test5Noise', 6: 'Test6Noise', 7: 'Test7Noise'}\n",
    "int_to_class"
   ]
  },
  {
   "cell_type": "code",
   "execution_count": null,
   "id": "84e99a1c",
   "metadata": {},
   "outputs": [],
   "source": [
    "Test1\tИсправный, заводское состояние, новый\n",
    "Test2\tДисбаланс 15 гр\n",
    "Test3\tДисбаланс 30 гр\n",
    "Test4\tПромыт полностью от смазки. Отсутсивие смазки\n",
    "Test5\tНедостаток смазки\n",
    "Test6\tГрязь в смазке\n",
    "Test7\tСильно загрязнённая смазка\n",
    "Test8\tНовый подшипник\n",
    "Test9\tДефект наружнегл кольца, лёгкий\n",
    "Test10\tДефект наружнегл кольца, средний\n",
    "Test11\tДефект наружнего кольца, крупный\n",
    "Test12\tДефект внутреннего кольца, средний\n",
    "Test13\tДефект внутреннего кольца, крупный\n",
    "\n",
    "Test1Noise,Test4Noise,Test7Noise,Test11Noise,Test13Noise\n",
    "Test3Noise>Test1Noise\n",
    "Test5Noise>Test4Noise\n",
    "Test6Noise>Test1Noise"
   ]
  },
  {
   "cell_type": "code",
   "execution_count": null,
   "id": "f295aea4",
   "metadata": {},
   "outputs": [],
   "source": [
    "\n"
   ]
  },
  {
   "cell_type": "code",
   "execution_count": 69,
   "id": "1e40a221",
   "metadata": {
    "scrolled": true
   },
   "outputs": [
    {
     "name": "stdout",
     "output_type": "stream",
     "text": [
      "пример выходного тензора tensor([[-0.4176,  3.5661, -0.3311,  0.4160, -2.7319, -2.2107, -5.0825,  0.0072]])\n",
      "какой индекс получили из тензора tensor([1])\n",
      "сопоставление индекса и имени класса Test13Noise\n"
     ]
    }
   ],
   "source": [
    "index,tensor=infer(model1,'./noise_cut_data/Test13Noise/Test13Noise_69_.wav')   \n",
    "print(f'пример выходного тензора {tensor}')\n",
    "print(f'какой индекс получили из тензора {index}')\n",
    "print(f'сопоставление индекса и имени класса {int_to_class[index.numpy()[0]]}')"
   ]
  },
  {
   "cell_type": "code",
   "execution_count": 96,
   "id": "d241ddbb",
   "metadata": {},
   "outputs": [
    {
     "name": "stdout",
     "output_type": "stream",
     "text": [
      "пример выходного тензора tensor([[-0.6112, -3.0722,  1.8795, -7.9706, -8.8027, -4.9116, -6.2665, -4.1497,\n",
      "         -3.3983, -1.0198,  6.4831]])\n",
      "какой индекс получили из тензора tensor([10])\n",
      "сопоставление индекса и имени класса Test9\n"
     ]
    }
   ],
   "source": [
    "print(f'пример выходного тензора {tensor}')\n",
    "print(f'какой индекс получили из тензора {index}')\n",
    "print(f'сопоставление индекса и имени класса {int_to_class[index.numpy()[0]]}')"
   ]
  },
  {
   "cell_type": "code",
   "execution_count": 194,
   "id": "76b6a344",
   "metadata": {},
   "outputs": [
    {
     "name": "stderr",
     "output_type": "stream",
     "text": [
      "C:\\Users\\Ysiberia\\AppData\\Local\\Temp\\ipykernel_14404\\1430241965.py:3: UserWarning: Implicit dimension choice for softmax has been deprecated. Change the call to include dim=X as an argument.\n",
      "  probabilities = sm(tensor)\n"
     ]
    },
    {
     "data": {
      "text/plain": [
       "tensor([[4.5064e-08, 5.5071e-06, 7.5314e-09, 5.1724e-07, 1.1304e-08, 1.6622e-07,\n",
       "         6.9871e-06, 9.0044e-08, 1.0603e-05, 2.6723e-06, 1.5885e-08, 9.9997e-01]])"
      ]
     },
     "execution_count": 194,
     "metadata": {},
     "output_type": "execute_result"
    }
   ],
   "source": [
    "# пример как переделать тензор в вероятности классов\n",
    "sm = torch.nn.Softmax()\n",
    "probabilities = sm(tensor)\n",
    "probabilities"
   ]
  },
  {
   "cell_type": "code",
   "execution_count": null,
   "id": "e32af1db",
   "metadata": {},
   "outputs": [],
   "source": [
    "\n"
   ]
  },
  {
   "cell_type": "code",
   "execution_count": null,
   "id": "ccaee056",
   "metadata": {},
   "outputs": [],
   "source": [
    "Test1\tИсправный, заводское состояние, новый\n",
    "Test2\tДисбаланс 15 гр\n",
    "Test3\tДисбаланс 30 гр\n",
    "Test4\tПромыт полностью от смазки. Отсутсивие смазки\n",
    "Test5\tНедостаток смазки\n",
    "Test6\tГрязь в смазке\n",
    "Test7\tСильно загрязнённая смазка\n",
    "Test8\tНовый подшипник\n",
    "Test9\tДефект наружнегл кольца, лёгкий\n",
    "Test10\tДефект наружнегл кольца, средний\n",
    "Test11\tДефект наружнего кольца, крупный\n",
    "Test12\tДефект внутреннего кольца, средний\n",
    "Test13\tДефект внутреннего кольца, крупный"
   ]
  },
  {
   "cell_type": "code",
   "execution_count": null,
   "id": "17d0bad4",
   "metadata": {},
   "outputs": [],
   "source": []
  },
  {
   "cell_type": "code",
   "execution_count": null,
   "id": "ffe5ca04",
   "metadata": {},
   "outputs": [],
   "source": []
  },
  {
   "cell_type": "code",
   "execution_count": null,
   "id": "f4ead70c",
   "metadata": {},
   "outputs": [],
   "source": []
  },
  {
   "cell_type": "code",
   "execution_count": null,
   "id": "68c0ef91",
   "metadata": {},
   "outputs": [],
   "source": []
  },
  {
   "cell_type": "code",
   "execution_count": null,
   "id": "b221704a",
   "metadata": {},
   "outputs": [],
   "source": []
  }
 ],
 "metadata": {
  "kernelspec": {
   "display_name": "Python 3 (ipykernel)",
   "language": "python",
   "name": "python3"
  },
  "language_info": {
   "codemirror_mode": {
    "name": "ipython",
    "version": 3
   },
   "file_extension": ".py",
   "mimetype": "text/x-python",
   "name": "python",
   "nbconvert_exporter": "python",
   "pygments_lexer": "ipython3",
   "version": "3.9.5"
  }
 },
 "nbformat": 4,
 "nbformat_minor": 5
}
