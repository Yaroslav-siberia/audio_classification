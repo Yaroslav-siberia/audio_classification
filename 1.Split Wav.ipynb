{
 "cells": [
  {
   "cell_type": "code",
   "execution_count": 6,
   "id": "f0db3c36",
   "metadata": {},
   "outputs": [],
   "source": [
    "import os\n",
    "import random\n",
    "\n",
    "from pydub import AudioSegment"
   ]
  },
  {
   "cell_type": "code",
   "execution_count": 13,
   "id": "fd391603",
   "metadata": {},
   "outputs": [],
   "source": [
    "def split_audo(audio:str,audio_folder:str,sample_length:int,sample_count:int):\n",
    "    '''\n",
    "    Данная функция генерирует из одного большого аудио файла много файлов поменьше, \n",
    "    из которых будет составляться датасет. Все сгенерированные аудио попадают в отдельную директорию, \n",
    "    имеющую название исходного файла. \n",
    "    \n",
    "    ==Input==\n",
    "    audio - путь к исходному файлу\n",
    "    audio_folder - директория в котороую будет осуществляться генерация\n",
    "    sample_length - длина генерируемого примера в секундах\n",
    "    sample_count - количество примеров\n",
    "    '''\n",
    "    # проверяем/создаем директорию audio_folder/filename/\n",
    "    if not os.path.exists(audio_folder):\n",
    "        os.makedirs(audio_folder)\n",
    "    sub_folder = os.path.basename(audio).split('.')[0]\n",
    "    sample_folder = os.path.join(audio_folder,sub_folder)\n",
    "    if not os.path.exists(sample_folder):\n",
    "        os.makedirs(sample_folder)\n",
    "\n",
    "    Audio = AudioSegment.from_wav(audio) # считываем аудио\n",
    "    max = Audio.duration_seconds - sample_length - 1 # получаем длину аудио\n",
    "    for i in range(0,sample_count): # с\n",
    "        start = random.randint(0, max)\n",
    "        end = start + sample_length\n",
    "        sample = Audio[start*1000:end*1000]\n",
    "        sample_name = sub_folder+f'_{i}_.wav'\n",
    "        sample_path=os.path.join(sample_folder,sample_name)\n",
    "        sample.export(sample_path, format=\"wav\")"
   ]
  },
  {
   "cell_type": "code",
   "execution_count": 14,
   "id": "69e7802b",
   "metadata": {},
   "outputs": [],
   "source": [
    "split_audo(\"./segregated-urban8K-sounds/air_conditioner/79089-0-0-138.wav\",\"./segregated-urban8K-sounds/split_test\",\n",
    "          1,2)"
   ]
  },
  {
   "cell_type": "code",
   "execution_count": null,
   "id": "287bb919",
   "metadata": {},
   "outputs": [],
   "source": []
  }
 ],
 "metadata": {
  "kernelspec": {
   "display_name": "Python 3 (ipykernel)",
   "language": "python",
   "name": "python3"
  },
  "language_info": {
   "codemirror_mode": {
    "name": "ipython",
    "version": 3
   },
   "file_extension": ".py",
   "mimetype": "text/x-python",
   "name": "python",
   "nbconvert_exporter": "python",
   "pygments_lexer": "ipython3",
   "version": "3.8.10"
  }
 },
 "nbformat": 4,
 "nbformat_minor": 5
}
