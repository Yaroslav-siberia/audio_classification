{
 "cells": [
  {
   "cell_type": "code",
   "execution_count": 1,
   "id": "a65fbba6",
   "metadata": {},
   "outputs": [
    {
     "name": "stderr",
     "output_type": "stream",
     "text": [
      "c:\\users\\ysiberia\\documents\\github\\audiio_classification\\venv\\lib\\site-packages\\pydub\\utils.py:170: RuntimeWarning: Couldn't find ffmpeg or avconv - defaulting to ffmpeg, but may not work\n",
      "  warn(\"Couldn't find ffmpeg or avconv - defaulting to ffmpeg, but may not work\", RuntimeWarning)\n"
     ]
    }
   ],
   "source": [
    "import os\n",
    "import random\n",
    "import librosa\n",
    "from tqdm import tqdm\n",
    "from pydub import AudioSegment\n",
    "from pydub.generators import WhiteNoise\n",
    "import numpy as np\n",
    "import soundfile as sf\n",
    "import librosa.display\n",
    "import matplotlib.pyplot as plt"
   ]
  },
  {
   "cell_type": "code",
   "execution_count": 2,
   "id": "c3bec076",
   "metadata": {},
   "outputs": [],
   "source": [
    "def split_audo(audio:str,audio_folder:str,sample_length:int,sample_count:int,noise_volume:int):\n",
    "    '''\n",
    "    Данная функция генерирует из одного большого аудио файла много файлов поменьше, \n",
    "    из которых будет составляться датасет. Все сгенерированные аудио попадают в отдельную директорию, \n",
    "    имеющую название исходного файла. \n",
    "    \n",
    "    ==Input==\n",
    "    audio - путь к исходному файлу\n",
    "    audio_folder - директория в котороую будет осуществляться генерация\n",
    "    sample_length - длина генерируемого примера в секундах\n",
    "    sample_count - количество примеров\n",
    "    '''\n",
    "    # проверяем/создаем директорию audio_folder/filename/\n",
    "    if not os.path.exists(audio_folder):\n",
    "        os.makedirs(audio_folder)\n",
    "    sub_folder = os.path.basename(audio).split('.')[0]\n",
    "    sample_folder = os.path.join(audio_folder,sub_folder)\n",
    "    if not os.path.exists(sample_folder):\n",
    "        os.makedirs(sample_folder)\n",
    "\n",
    "    Audio = AudioSegment.from_wav(audio) # считываем аудио\n",
    "    bitrate = str((Audio.frame_rate * Audio.frame_width * 8 * Audio.channels) / 1000)\n",
    "    max = int(Audio.duration_seconds - sample_length - 1) # получаем длину аудио\n",
    "    for i in range(0,sample_count): # с\n",
    "        start = random.randint(0, max)\n",
    "        end = start + sample_length\n",
    "        sample = Audio[start*1000:end*1000]\n",
    "        #print(abs(sample.dBFS))\n",
    "        dbfs=round(abs(sample.dBFS)*(random.randint(0,noise_volume)/100),1)\n",
    "        #print(dbfs)\n",
    "        volume1=round(sample.dBFS+dbfs)\n",
    "        noise = WhiteNoise().to_audio_segment(duration=len(sample),volume=volume1)\n",
    "        sample = sample.overlay(noise)\n",
    "        sample_name = sub_folder+f'_{i}_.wav'\n",
    "        sample_path=os.path.join(sample_folder,sample_name)\n",
    "        sample.export(sample_path, format=\"wav\",bitrate=bitrate)"
   ]
  },
  {
   "cell_type": "code",
   "execution_count": 3,
   "id": "15202778",
   "metadata": {},
   "outputs": [],
   "source": [
    "def split_all_audio(audio_path:str,audio_folder:str,sample_length:int,sample_count:int,noise_volume:int):\n",
    "    '''\n",
    "    Данная функция в цикле применит функцию split_audo к каждому файлу в директории с расширением wav\n",
    "    ==Input==\n",
    "    audio_path - директория с исходными файлами\n",
    "    audio_folder - директория в котороую будет осуществляться генерация\n",
    "    sample_length - длина генерируемого примера в секундах\n",
    "    sample_count - количество примеров\n",
    "    \n",
    "    '''\n",
    "    for subdir, dirs, files in os.walk(audio_path):\n",
    "            print(subdir)\n",
    "            for file in tqdm(files):\n",
    "                filepath = subdir + os.sep + file\n",
    "                if filepath.endswith(\".wav\"):\n",
    "                    split_audo(filepath,audio_folder,sample_length,sample_count,noise_volume)"
   ]
  },
  {
   "cell_type": "code",
   "execution_count": 5,
   "id": "747352de",
   "metadata": {},
   "outputs": [
    {
     "name": "stdout",
     "output_type": "stream",
     "text": [
      "C:\\Users\\Ysiberia\\Documents\\GitHub\\audiio_classification\\original_data\n"
     ]
    },
    {
     "name": "stderr",
     "output_type": "stream",
     "text": [
      "100%|███████████████████████████████████████████████████████████████████████████████| 9/9 [07:54<00:00, 52.72s/it]\n"
     ]
    }
   ],
   "source": [
    "split_all_audio(r'noise_data',r'split10_noise',10,400,20)"
   ]
  },
  {
   "cell_type": "code",
   "execution_count": null,
   "id": "e7e01b7b",
   "metadata": {},
   "outputs": [],
   "source": []
  },
  {
   "cell_type": "code",
   "execution_count": null,
   "id": "05a6e772",
   "metadata": {},
   "outputs": [],
   "source": []
  },
  {
   "cell_type": "code",
   "execution_count": null,
   "id": "2a404142",
   "metadata": {},
   "outputs": [],
   "source": []
  },
  {
   "cell_type": "code",
   "execution_count": null,
   "id": "503b220a",
   "metadata": {},
   "outputs": [],
   "source": []
  },
  {
   "cell_type": "code",
   "execution_count": 5,
   "id": "12bb6d15",
   "metadata": {},
   "outputs": [],
   "source": [
    "import os\n",
    "import random\n",
    "import librosa\n",
    "from tqdm import tqdm\n",
    "from pydub import AudioSegment\n",
    "import numpy as np\n",
    "import soundfile as sf\n",
    "import librosa.display\n",
    "import matplotlib.pyplot as plt"
   ]
  },
  {
   "cell_type": "code",
   "execution_count": 6,
   "id": "af68dc52",
   "metadata": {},
   "outputs": [],
   "source": [
    "def _plot_signal_and_augmented_signal(signal, augmented_signal, sr):\n",
    "    fig, ax = plt.subplots(nrows=2,figsize=(15,15))\n",
    "    librosa.display.waveshow(signal, sr=sr, ax=ax[0])\n",
    "    ax[0].set(title=\"Original signal\")\n",
    "    librosa.display.waveshow(augmented_signal, sr=sr, ax=ax[1])\n",
    "    ax[1].set(title=\"Augmented signal\")\n",
    "    plt.show()"
   ]
  },
  {
   "cell_type": "code",
   "execution_count": 7,
   "id": "05a800ce",
   "metadata": {},
   "outputs": [],
   "source": [
    "def add_white_noise(signal, noise_percentage_factor):\n",
    "    noise = np.random.normal(0, signal.std(), signal.size)\n",
    "    augmented_signal = signal + noise * noise_percentage_factor\n",
    "    return augmented_signal"
   ]
  },
  {
   "cell_type": "code",
   "execution_count": 8,
   "id": "35fc7894",
   "metadata": {},
   "outputs": [],
   "source": [
    "def time_stretch(signal, time_stretch_rate):\n",
    "    return librosa.effects.time_stretch(signal, time_stretch_rate)"
   ]
  },
  {
   "cell_type": "code",
   "execution_count": 9,
   "id": "dfa9a21e",
   "metadata": {},
   "outputs": [],
   "source": [
    "def pitch_scale(signal, sr, num_semitones):\n",
    "    return librosa.effects.pitch_shift(signal, sr, num_semitones)"
   ]
  },
  {
   "cell_type": "code",
   "execution_count": 10,
   "id": "88df3d7f",
   "metadata": {},
   "outputs": [],
   "source": [
    "def random_gain(signal, min_factor=0.5, max_factor=2):\n",
    "    gain_rate = random.uniform(min_factor, max_factor)\n",
    "    augmented_signal = signal * gain_rate\n",
    "    return augmented_signal"
   ]
  },
  {
   "cell_type": "code",
   "execution_count": 11,
   "id": "979e9f25",
   "metadata": {},
   "outputs": [],
   "source": [
    "def invert_polarity(signal):\n",
    "    return signal * -1"
   ]
  },
  {
   "cell_type": "markdown",
   "id": "f462da9d",
   "metadata": {},
   "source": [
    "дальше примеры аугментации и сразу график. у меня при обучении только белый шум применялся. лучше на коротки аудио чтоб были видны изменения на текущем масштабе."
   ]
  },
  {
   "cell_type": "code",
   "execution_count": 11,
   "id": "8fd677e8",
   "metadata": {},
   "outputs": [
    {
     "data": {
      "image/png": "[encoded data removed]",
      "text/plain": [
       "<Figure size 720x720 with 2 Axes>"
      ]
     },
     "metadata": {
      "needs_background": "light"
     },
     "output_type": "display_data"
    }
   ],
   "source": [
    "signal, sr = librosa.load(r\"original_data/Test1.wav\")\n",
    "augmented_signal = add_white_noise(signal,0.5) # добавление белого шума. уровень шума - второй аргумент\n",
    "#augmented_signal = time_stretch(signal, 0.8) # изменение скорости воспроизведения\n",
    "#augmented_signal = pitch_scale(signal, sr, 6) # изменение тональнрсим\n",
    "#augmented_signal = random_gain(signal) # уменьшение-увеличение амплитуды\n",
    "#augmented_signal = invert_polarity(signal) # инверсия\n",
    "\n",
    "sf.write(\"augmented_audio.wav\", augmented_signal, sr)\n",
    "_plot_signal_and_augmented_signal(signal, augmented_signal, sr)"
   ]
  },
  {
   "cell_type": "code",
   "execution_count": 12,
   "id": "2ad64898",
   "metadata": {},
   "outputs": [],
   "source": [
    "def augmentation(signal,min_noise_percentage_factor = 0.1,\n",
    "                 max_noise_percentage_factor = 0.5,\n",
    "                 min_factor=0.5, \n",
    "                 max_factor=1.5):\n",
    "    noise_percentage_factor = random.uniform(min_noise_percentage_factor, max_noise_percentage_factor)\n",
    "    augmented_signal = add_white_noise(signal, noise_percentage_factor)\n",
    "    augmented_signal = random_gain(augmented_signal,min_factor=0.5, max_factor=2)\n",
    "    \n",
    "    return augmented_signal"
   ]
  },
  {
   "cell_type": "code",
   "execution_count": 13,
   "id": "6871234d",
   "metadata": {},
   "outputs": [],
   "source": [
    "def split_audo_with_augmentation(audio:str,\n",
    "                                 audio_folder:str,\n",
    "                                 sample_length:int,\n",
    "                                 sample_count:int,\n",
    "                                 min_noise_percentage_factor = 0.0,\n",
    "                                 max_noise_percentage_factor = 0.8,\n",
    "                                 min_factor=0.5, \n",
    "                                 max_factor=2):\n",
    "    '''\n",
    "    Данная функция генерирует из одного большого аудио файла много файлов поменьше, \n",
    "    из которых будет составляться датасет. Все сгенерированные аудио попадают в отдельную директорию, \n",
    "    имеющую название исходного файла. \n",
    "    \n",
    "    ==Input==\n",
    "    audio - путь к исходному файлу\n",
    "    audio_folder - директория в котороую будет осуществляться генерация\n",
    "    sample_length - длина генерируемого примера в секундах\n",
    "    sample_count - количество примеров\n",
    "    '''\n",
    "    # проверяем/создаем директорию audio_folder/filename/\n",
    "    if not os.path.exists(audio_folder):\n",
    "        os.makedirs(audio_folder)\n",
    "    sub_folder = os.path.basename(audio).split('.')[0]\n",
    "    sample_folder = os.path.join(audio_folder,sub_folder)\n",
    "    if not os.path.exists(sample_folder):\n",
    "        os.makedirs(sample_folder)\n",
    "\n",
    "    signal, sr = librosa.load(audio) # считываем ауди\n",
    "\n",
    "    length = librosa.get_duration(y=signal, sr=sr)\n",
    "\n",
    "    max = int(length - sample_length -1) # получаем длину аудио\n",
    "    for i in range(0,sample_count): # с\n",
    "        start = random.randint(0, max)*sr\n",
    "        end = start + sample_length*sr\n",
    "        sound = signal[start:end]\n",
    "        \n",
    "        noise_percentage_factor = random.uniform(min_noise_percentage_factor, \n",
    "                                                 max_noise_percentage_factor)\n",
    "        \n",
    "        gain_rate = random.uniform(min_factor, max_factor)\n",
    "        sound = add_white_noise(sound,noise_percentage_factor)\n",
    "        #sound = random_gain(sound,gain_rate)\n",
    "        sample_name = sub_folder+f'_{i}_.wav'\n",
    "        sample_path=os.path.join(sample_folder,sample_name)\n",
    "\n",
    "        sf.write(sample_path, sound, sr)\n",
    "\n",
    "        #sample.export(sample_path, format=\"wav\")"
   ]
  },
  {
   "cell_type": "code",
   "execution_count": 14,
   "id": "9a567c80",
   "metadata": {},
   "outputs": [],
   "source": [
    "def split_all_audio(audio_path:str,audio_folder:str,sample_length:int,sample_count:int):\n",
    "    '''\n",
    "    Данная функция в цикле применит функцию split_audo к каждому файлу в директории с расширением wav\n",
    "    ==Input==\n",
    "    audio_path - директория с исходными файлами\n",
    "    audio_folder - директория в котороую будет осуществляться генерация\n",
    "    sample_length - длина генерируемого примера в секундах\n",
    "    sample_count - количество примеров\n",
    "    \n",
    "    '''\n",
    "    for subdir, dirs, files in os.walk(audio_path):\n",
    "            print(subdir)\n",
    "            for file in tqdm(files):\n",
    "                filepath = subdir + os.sep + file\n",
    "                if filepath.endswith(\".wav\"):\n",
    "                    print(filepath)\n",
    "                    split_audo_with_augmentation(filepath,audio_folder,sample_length,sample_count)"
   ]
  },
  {
   "cell_type": "code",
   "execution_count": 15,
   "id": "f2d1e784",
   "metadata": {
    "scrolled": true
   },
   "outputs": [
    {
     "name": "stdout",
     "output_type": "stream",
     "text": [
      "C:\\Users\\Ysiberia\\Documents\\GitHub\\audiio_classification\\original_data\n"
     ]
    },
    {
     "name": "stderr",
     "output_type": "stream",
     "text": [
      "\r",
      "  0%|                                                                                      | 0/13 [00:00<?, ?it/s]"
     ]
    },
    {
     "name": "stdout",
     "output_type": "stream",
     "text": [
      "C:\\Users\\Ysiberia\\Documents\\GitHub\\audiio_classification\\original_data\\Test1.wav\n"
     ]
    },
    {
     "name": "stderr",
     "output_type": "stream",
     "text": [
      "\r",
      "  8%|█████▉                                                                       | 1/13 [02:02<24:32, 122.69s/it]"
     ]
    },
    {
     "name": "stdout",
     "output_type": "stream",
     "text": [
      "C:\\Users\\Ysiberia\\Documents\\GitHub\\audiio_classification\\original_data\\Test10.wav\n"
     ]
    },
    {
     "name": "stderr",
     "output_type": "stream",
     "text": [
      "\r",
      " 15%|████████████                                                                  | 2/13 [02:10<10:09, 55.40s/it]"
     ]
    },
    {
     "name": "stdout",
     "output_type": "stream",
     "text": [
      "C:\\Users\\Ysiberia\\Documents\\GitHub\\audiio_classification\\original_data\\Test11.wav\n"
     ]
    },
    {
     "name": "stderr",
     "output_type": "stream",
     "text": [
      "\r",
      " 23%|██████████████████                                                            | 3/13 [02:35<06:50, 41.09s/it]"
     ]
    },
    {
     "name": "stdout",
     "output_type": "stream",
     "text": [
      "C:\\Users\\Ysiberia\\Documents\\GitHub\\audiio_classification\\original_data\\Test12.wav\n"
     ]
    },
    {
     "name": "stderr",
     "output_type": "stream",
     "text": [
      "\r",
      " 31%|████████████████████████                                                      | 4/13 [03:01<05:19, 35.46s/it]"
     ]
    },
    {
     "name": "stdout",
     "output_type": "stream",
     "text": [
      "C:\\Users\\Ysiberia\\Documents\\GitHub\\audiio_classification\\original_data\\Test13.wav\n"
     ]
    },
    {
     "name": "stderr",
     "output_type": "stream",
     "text": [
      "\r",
      " 38%|██████████████████████████████                                                | 5/13 [03:30<04:23, 32.91s/it]"
     ]
    },
    {
     "name": "stdout",
     "output_type": "stream",
     "text": [
      "C:\\Users\\Ysiberia\\Documents\\GitHub\\audiio_classification\\original_data\\Test2.wav\n"
     ]
    },
    {
     "name": "stderr",
     "output_type": "stream",
     "text": [
      "\r",
      " 46%|████████████████████████████████████                                          | 6/13 [03:55<03:30, 30.13s/it]"
     ]
    },
    {
     "name": "stdout",
     "output_type": "stream",
     "text": [
      "C:\\Users\\Ysiberia\\Documents\\GitHub\\audiio_classification\\original_data\\Test3.wav\n"
     ]
    },
    {
     "name": "stderr",
     "output_type": "stream",
     "text": [
      "\r",
      " 54%|██████████████████████████████████████████                                    | 7/13 [04:19<02:49, 28.18s/it]"
     ]
    },
    {
     "name": "stdout",
     "output_type": "stream",
     "text": [
      "C:\\Users\\Ysiberia\\Documents\\GitHub\\audiio_classification\\original_data\\Test4.wav\n"
     ]
    },
    {
     "name": "stderr",
     "output_type": "stream",
     "text": [
      "\r",
      " 62%|████████████████████████████████████████████████                              | 8/13 [04:43<02:14, 27.00s/it]"
     ]
    },
    {
     "name": "stdout",
     "output_type": "stream",
     "text": [
      "C:\\Users\\Ysiberia\\Documents\\GitHub\\audiio_classification\\original_data\\Test5.wav\n"
     ]
    },
    {
     "name": "stderr",
     "output_type": "stream",
     "text": [
      "\r",
      " 69%|██████████████████████████████████████████████████████                        | 9/13 [05:06<01:43, 25.85s/it]"
     ]
    },
    {
     "name": "stdout",
     "output_type": "stream",
     "text": [
      "C:\\Users\\Ysiberia\\Documents\\GitHub\\audiio_classification\\original_data\\Test6.wav\n"
     ]
    },
    {
     "name": "stderr",
     "output_type": "stream",
     "text": [
      "\r",
      " 77%|███████████████████████████████████████████████████████████▏                 | 10/13 [05:22<01:08, 22.72s/it]"
     ]
    },
    {
     "name": "stdout",
     "output_type": "stream",
     "text": [
      "C:\\Users\\Ysiberia\\Documents\\GitHub\\audiio_classification\\original_data\\Test7.wav\n"
     ]
    },
    {
     "name": "stderr",
     "output_type": "stream",
     "text": [
      "\r",
      " 85%|█████████████████████████████████████████████████████████████████▏           | 11/13 [05:46<00:45, 22.94s/it]"
     ]
    },
    {
     "name": "stdout",
     "output_type": "stream",
     "text": [
      "C:\\Users\\Ysiberia\\Documents\\GitHub\\audiio_classification\\original_data\\Test9.wav\n"
     ]
    },
    {
     "name": "stderr",
     "output_type": "stream",
     "text": [
      "100%|█████████████████████████████████████████████████████████████████████████████| 13/13 [05:53<00:00, 27.23s/it]\n"
     ]
    }
   ],
   "source": [
    "split_all_audio(r'C:\\Users\\Ysiberia\\Documents\\GitHub\\audiio_classification\\original_data',r'split10_noise',10,10)"
   ]
  },
  {
   "cell_type": "code",
   "execution_count": null,
   "id": "4b0f6ab6",
   "metadata": {},
   "outputs": [],
   "source": []
  },
  {
   "cell_type": "code",
   "execution_count": null,
   "id": "bdb08712",
   "metadata": {},
   "outputs": [],
   "source": []
  },
  {
   "cell_type": "code",
   "execution_count": 4,
   "id": "f0db3c36",
   "metadata": {},
   "outputs": [],
   "source": [
    "import os\n",
    "import random\n",
    "import numpy as np\n",
    "from tqdm import tqdm\n",
    "from pydub import AudioSegment"
   ]
  },
  {
   "cell_type": "code",
   "execution_count": 5,
   "id": "fd391603",
   "metadata": {},
   "outputs": [],
   "source": [
    "def split_audo(audio:str,audio_folder:str,sample_length:int,sample_count:int):\n",
    "    '''\n",
    "    Данная функция генерирует из одного большого аудио файла много файлов поменьше, \n",
    "    из которых будет составляться датасет. Все сгенерированные аудио попадают в отдельную директорию, \n",
    "    имеющую название исходного файла. \n",
    "    \n",
    "    ==Input==\n",
    "    audio - путь к исходному файлу\n",
    "    audio_folder - директория в котороую будет осуществляться генерация\n",
    "    sample_length - длина генерируемого примера в секундах\n",
    "    sample_count - количество примеров\n",
    "    '''\n",
    "    # проверяем/создаем директорию audio_folder/filename/\n",
    "    if not os.path.exists(audio_folder):\n",
    "        os.makedirs(audio_folder)\n",
    "    sub_folder = os.path.basename(audio).split('.')[0]\n",
    "    sample_folder = os.path.join(audio_folder,sub_folder)\n",
    "    if not os.path.exists(sample_folder):\n",
    "        os.makedirs(sample_folder)\n",
    "        \n",
    "    print(audio)\n",
    "\n",
    "    Audio = AudioSegment.from_wav(audio) # считываем аудио\n",
    "    max = int(Audio.duration_seconds - sample_length - 1) # получаем длину аудио\n",
    "    for i in range(0,sample_count): # с\n",
    "        start = random.randint(0, max)\n",
    "        end = start + sample_length\n",
    "        sample = Audio[start*1000:end*1000]\n",
    "        sample_name = sub_folder+f'_{i}_.wav'\n",
    "        sample_path=os.path.join(sample_folder,sample_name)\n",
    "        sample.export(sample_path, format=\"wav\")"
   ]
  },
  {
   "cell_type": "code",
   "execution_count": 6,
   "id": "69e7802b",
   "metadata": {},
   "outputs": [],
   "source": [
    "def split_all_audio(audio_path:str,audio_folder:str,sample_length:int,sample_count:int):\n",
    "    '''\n",
    "    Данная функция в цикле применит функцию split_audo к каждому файлу в директории с расширением wav\n",
    "    ==Input==\n",
    "    audio_path - директория с исходными файлами\n",
    "    audio_folder - директория в котороую будет осуществляться генерация\n",
    "    sample_length - длина генерируемого примера в секундах\n",
    "    sample_count - количество примеров\n",
    "    \n",
    "    '''\n",
    "    for subdir, dirs, files in os.walk(audio_path):\n",
    "            print(subdir)\n",
    "            for file in tqdm(files):\n",
    "                filepath = subdir + os.sep + file\n",
    "                if filepath.endswith(\".wav\"):\n",
    "                    print(filepath)\n",
    "                    split_audo(filepath,audio_folder,sample_length,sample_count)"
   ]
  },
  {
   "cell_type": "code",
   "execution_count": 7,
   "id": "287bb919",
   "metadata": {},
   "outputs": [
    {
     "name": "stdout",
     "output_type": "stream",
     "text": [
      "./noise_data\n"
     ]
    },
    {
     "name": "stderr",
     "output_type": "stream",
     "text": [
      "\r",
      "  0%|                                                                                       | 0/8 [00:00<?, ?it/s]"
     ]
    },
    {
     "name": "stdout",
     "output_type": "stream",
     "text": [
      "./noise_data\\Test11Noise.wav\n",
      "./noise_data\\Test11Noise.wav\n"
     ]
    },
    {
     "name": "stderr",
     "output_type": "stream",
     "text": [
      "\r",
      " 12%|█████████▉                                                                     | 1/8 [00:03<00:22,  3.23s/it]"
     ]
    },
    {
     "name": "stdout",
     "output_type": "stream",
     "text": [
      "./noise_data\\Test13Noise.wav\n",
      "./noise_data\\Test13Noise.wav\n"
     ]
    },
    {
     "name": "stderr",
     "output_type": "stream",
     "text": [
      "\r",
      " 25%|███████████████████▊                                                           | 2/8 [00:07<00:22,  3.70s/it]"
     ]
    },
    {
     "name": "stdout",
     "output_type": "stream",
     "text": [
      "./noise_data\\Test1Noise.wav\n",
      "./noise_data\\Test1Noise.wav\n"
     ]
    },
    {
     "name": "stderr",
     "output_type": "stream",
     "text": [
      "\r",
      " 38%|█████████████████████████████▋                                                 | 3/8 [00:11<00:19,  3.93s/it]"
     ]
    },
    {
     "name": "stdout",
     "output_type": "stream",
     "text": [
      "./noise_data\\Test3Noise.wav\n",
      "./noise_data\\Test3Noise.wav\n"
     ]
    },
    {
     "name": "stderr",
     "output_type": "stream",
     "text": [
      "\r",
      " 50%|███████████████████████████████████████▌                                       | 4/8 [00:26<00:33,  8.30s/it]"
     ]
    },
    {
     "name": "stdout",
     "output_type": "stream",
     "text": [
      "./noise_data\\Test4Noise.wav\n",
      "./noise_data\\Test4Noise.wav\n"
     ]
    },
    {
     "name": "stderr",
     "output_type": "stream",
     "text": [
      "\r",
      " 62%|█████████████████████████████████████████████████▍                             | 5/8 [00:47<00:38, 12.99s/it]"
     ]
    },
    {
     "name": "stdout",
     "output_type": "stream",
     "text": [
      "./noise_data\\Test5Noise.wav\n",
      "./noise_data\\Test5Noise.wav\n"
     ]
    },
    {
     "name": "stderr",
     "output_type": "stream",
     "text": [
      "\r",
      " 75%|███████████████████████████████████████████████████████████▎                   | 6/8 [01:07<00:30, 15.31s/it]"
     ]
    },
    {
     "name": "stdout",
     "output_type": "stream",
     "text": [
      "./noise_data\\Test6Noise.wav\n",
      "./noise_data\\Test6Noise.wav\n"
     ]
    },
    {
     "name": "stderr",
     "output_type": "stream",
     "text": [
      "\r",
      " 88%|█████████████████████████████████████████████████████████████████████▏         | 7/8 [01:32<00:18, 18.41s/it]"
     ]
    },
    {
     "name": "stdout",
     "output_type": "stream",
     "text": [
      "./noise_data\\Test7Noise.wav\n",
      "./noise_data\\Test7Noise.wav\n"
     ]
    },
    {
     "name": "stderr",
     "output_type": "stream",
     "text": [
      "100%|███████████████████████████████████████████████████████████████████████████████| 8/8 [02:03<00:00, 15.40s/it]\n"
     ]
    }
   ],
   "source": [
    "split_all_audio(r'./noise_data',r'./noise_cut_data',10,400)"
   ]
  },
  {
   "cell_type": "code",
   "execution_count": null,
   "id": "00e183e8",
   "metadata": {},
   "outputs": [],
   "source": []
  },
  {
   "cell_type": "code",
   "execution_count": null,
   "id": "32885cbd",
   "metadata": {},
   "outputs": [],
   "source": []
  },
  {
   "cell_type": "code",
   "execution_count": null,
   "id": "1c8b88c8",
   "metadata": {},
   "outputs": [],
   "source": [
    "split_all_audio('./original_data','./splited_data_10',10,70)"
   ]
  }
 ],
 "metadata": {
  "kernelspec": {
   "display_name": "Python 3 (ipykernel)",
   "language": "python",
   "name": "python3"
  },
  "language_info": {
   "codemirror_mode": {
    "name": "ipython",
    "version": 3
   },
   "file_extension": ".py",
   "mimetype": "text/x-python",
   "name": "python",
   "nbconvert_exporter": "python",
   "pygments_lexer": "ipython3",
   "version": "3.9.5"
  }
 },
 "nbformat": 4,
 "nbformat_minor": 5
}
