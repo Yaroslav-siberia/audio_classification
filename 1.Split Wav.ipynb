{
 "cells": [
  {
   "cell_type": "code",
   "execution_count": 13,
   "id": "f0db3c36",
   "metadata": {},
   "outputs": [],
   "source": [
    "import os\n",
    "import random\n",
    "from tqdm import tqdm\n",
    "from pydub import AudioSegment"
   ]
  },
  {
   "cell_type": "code",
   "execution_count": 14,
   "id": "fd391603",
   "metadata": {},
   "outputs": [],
   "source": [
    "def split_audo(audio:str,audio_folder:str,sample_length:int,sample_count:int):\n",
    "    '''\n",
    "    Данная функция генерирует из одного большого аудио файла много файлов поменьше, \n",
    "    из которых будет составляться датасет. Все сгенерированные аудио попадают в отдельную директорию, \n",
    "    имеющую название исходного файла. \n",
    "    \n",
    "    ==Input==\n",
    "    audio - путь к исходному файлу\n",
    "    audio_folder - директория в котороую будет осуществляться генерация\n",
    "    sample_length - длина генерируемого примера в секундах\n",
    "    sample_count - количество примеров\n",
    "    '''\n",
    "    # проверяем/создаем директорию audio_folder/filename/\n",
    "    if not os.path.exists(audio_folder):\n",
    "        os.makedirs(audio_folder)\n",
    "    sub_folder = os.path.basename(audio).split('.')[0]\n",
    "    sample_folder = os.path.join(audio_folder,sub_folder)\n",
    "    if not os.path.exists(sample_folder):\n",
    "        os.makedirs(sample_folder)\n",
    "\n",
    "    Audio = AudioSegment.from_wav(audio) # считываем аудио\n",
    "    max = int(Audio.duration_seconds - sample_length - 1) # получаем длину аудио\n",
    "    for i in range(0,sample_count): # с\n",
    "        start = random.randint(0, max)\n",
    "        end = start + sample_length\n",
    "        sample = Audio[start*1000:end*1000]\n",
    "        sample_name = sub_folder+f'_{i}_.wav'\n",
    "        sample_path=os.path.join(sample_folder,sample_name)\n",
    "        sample.export(sample_path, format=\"wav\")"
   ]
  },
  {
   "cell_type": "code",
   "execution_count": 15,
   "id": "69e7802b",
   "metadata": {},
   "outputs": [],
   "source": [
    "def split_all_audio(audio_path:str,audio_folder:str,sample_length:int,sample_count:int):\n",
    "    '''\n",
    "    Данная функция в цикле применит функцию split_audo к каждому файлу в директории с расширением wav\n",
    "    ==Input==\n",
    "    audio_path - директория с исходными файлами\n",
    "    audio_folder - директория в котороую будет осуществляться генерация\n",
    "    sample_length - длина генерируемого примера в секундах\n",
    "    sample_count - количество примеров\n",
    "    \n",
    "    '''\n",
    "    for subdir, dirs, files in os.walk(audio_path):\n",
    "            print(subdir)\n",
    "            for file in tqdm(files):\n",
    "                filepath = subdir + os.sep + file\n",
    "                if filepath.endswith(\".wav\"):\n",
    "                    split_audo(filepath,audio_folder,sample_length,sample_count)"
   ]
  },
  {
   "cell_type": "code",
   "execution_count": 19,
   "id": "287bb919",
   "metadata": {},
   "outputs": [
    {
     "name": "stdout",
     "output_type": "stream",
     "text": [
      "./original_data\n"
     ]
    },
    {
     "name": "stderr",
     "output_type": "stream",
     "text": [
      "100%|█████████████████████████████████████████████████████████████████████████████████████████████████████████████████████████████████████████████████████████████████████████████████████████████████████| 13/13 [00:11<00:00,  1.16it/s]\n"
     ]
    }
   ],
   "source": [
    "split_all_audio('./original_data','./splited_data_5',5,70)"
   ]
  },
  {
   "cell_type": "code",
   "execution_count": null,
   "id": "1c8b88c8",
   "metadata": {},
   "outputs": [],
   "source": [
    "split_all_audio('./original_data','./splited_data_10',10,70)"
   ]
  }
 ],
 "metadata": {
  "kernelspec": {
   "display_name": "Python 3 (ipykernel)",
   "language": "python",
   "name": "python3"
  },
  "language_info": {
   "codemirror_mode": {
    "name": "ipython",
    "version": 3
   },
   "file_extension": ".py",
   "mimetype": "text/x-python",
   "name": "python",
   "nbconvert_exporter": "python",
   "pygments_lexer": "ipython3",
   "version": "3.9.5"
  }
 },
 "nbformat": 4,
 "nbformat_minor": 5
}
